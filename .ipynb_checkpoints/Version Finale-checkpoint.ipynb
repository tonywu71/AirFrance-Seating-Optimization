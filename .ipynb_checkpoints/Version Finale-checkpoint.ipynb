{
 "cells": [
  {
   "cell_type": "markdown",
   "metadata": {
    "id": "Mql3dULQWwF5"
   },
   "source": [
    "<center> <font size=6> Projet AirFrance - Placement de Passagers </center> </font>\n",
    "<center> <font size=4> CentraleSupélec - 2ème Année - 2021 </center> </font>\n",
    "<center> <font size=2> Thomas Bouquet, Caio De Prospero Iglesias, Quentin Guilhot, Thomas Melkior, Tony Wu </center> </font>"
   ]
  },
  {
   "cell_type": "markdown",
   "metadata": {
    "toc": true
   },
   "source": [
    "<h1>Sommaire<span class=\"tocSkip\"></span></h1>\n",
    "<div class=\"toc\"><ul class=\"toc-item\"><li><span><a href=\"#Importation-des-modules\" data-toc-modified-id=\"Importation-des-modules-1\"><span class=\"toc-item-num\">1&nbsp;&nbsp;</span>Importation des modules</a></span></li><li><span><a href=\"#L'avion\" data-toc-modified-id=\"L'avion-2\"><span class=\"toc-item-num\">2&nbsp;&nbsp;</span>L'avion</a></span><ul class=\"toc-item\"><li><span><a href=\"#Modèle-de-l'avion-THOMAS-B\" data-toc-modified-id=\"Modèle-de-l'avion-THOMAS-B-2.1\"><span class=\"toc-item-num\">2.1&nbsp;&nbsp;</span>Modèle de l'avion THOMAS B</a></span><ul class=\"toc-item\"><li><span><a href=\"#Représentation-informatique\" data-toc-modified-id=\"Représentation-informatique-2.1.1\"><span class=\"toc-item-num\">2.1.1&nbsp;&nbsp;</span>Représentation informatique</a></span><ul class=\"toc-item\"><li><span><a href=\"#Avec-Plotly\" data-toc-modified-id=\"Avec-Plotly-2.1.1.1\"><span class=\"toc-item-num\">2.1.1.1&nbsp;&nbsp;</span>Avec Plotly</a></span></li></ul></li><li><span><a href=\"#Implémentation-informatique-des-objets\" data-toc-modified-id=\"Implémentation-informatique-des-objets-2.1.2\"><span class=\"toc-item-num\">2.1.2&nbsp;&nbsp;</span>Implémentation informatique des objets</a></span><ul class=\"toc-item\"><li><span><a href=\"#Schéma-simplifié-de-la-cabine\" data-toc-modified-id=\"Schéma-simplifié-de-la-cabine-2.1.2.1\"><span class=\"toc-item-num\">2.1.2.1&nbsp;&nbsp;</span>Schéma simplifié de la cabine</a></span></li></ul></li><li><span><a href=\"#Ensemble-des-passagers\" data-toc-modified-id=\"Ensemble-des-passagers-2.1.3\"><span class=\"toc-item-num\">2.1.3&nbsp;&nbsp;</span>Ensemble des passagers</a></span><ul class=\"toc-item\"><li><span><a href=\"#Récupération-de-la-liste-des-passagers-à-partir-du-jeu-de-données-réelles-au-format-.xlsx\" data-toc-modified-id=\"Récupération-de-la-liste-des-passagers-à-partir-du-jeu-de-données-réelles-au-format-.xlsx-2.1.3.1\"><span class=\"toc-item-num\">2.1.3.1&nbsp;&nbsp;</span>Récupération de la liste des passagers à partir du jeu de données réelles au format <code>.xlsx</code></a></span></li><li><span><a href=\"#Ensemble-des-groupes-avec-strictement-plus-d'un-passager\" data-toc-modified-id=\"Ensemble-des-groupes-avec-strictement-plus-d'un-passager-2.1.3.2\"><span class=\"toc-item-num\">2.1.3.2&nbsp;&nbsp;</span>Ensemble des groupes avec strictement plus d'un passager</a></span></li></ul></li><li><span><a href=\"#Formalisme-mathématique\" data-toc-modified-id=\"Formalisme-mathématique-2.1.4\"><span class=\"toc-item-num\">2.1.4&nbsp;&nbsp;</span>Formalisme mathématique</a></span><ul class=\"toc-item\"><li><span><a href=\"#Ensembles-principaux\" data-toc-modified-id=\"Ensembles-principaux-2.1.4.1\"><span class=\"toc-item-num\">2.1.4.1&nbsp;&nbsp;</span>Ensembles principaux</a></span></li><li><span><a href=\"#Définition-du-modèle\" data-toc-modified-id=\"Définition-du-modèle-2.1.4.2\"><span class=\"toc-item-num\">2.1.4.2&nbsp;&nbsp;</span>Définition du modèle</a></span></li><li><span><a href=\"#Variables-indicatrices\" data-toc-modified-id=\"Variables-indicatrices-2.1.4.3\"><span class=\"toc-item-num\">2.1.4.3&nbsp;&nbsp;</span>Variables indicatrices</a></span></li><li><span><a href=\"#Variables-binaires-$\\pi_{xyp}$\" data-toc-modified-id=\"Variables-binaires-$\\pi_{xyp}$-2.1.4.4\"><span class=\"toc-item-num\">2.1.4.4&nbsp;&nbsp;</span>Variables binaires $\\pi_{xyp}$</a></span></li></ul></li></ul></li></ul></li><li><span><a href=\"#Contraintes\" data-toc-modified-id=\"Contraintes-3\"><span class=\"toc-item-num\">3&nbsp;&nbsp;</span>Contraintes</a></span><ul class=\"toc-item\"><li><ul class=\"toc-item\"><li><span><a href=\"#Centrage-de-l'avion\" data-toc-modified-id=\"Centrage-de-l'avion-3.0.1\"><span class=\"toc-item-num\">3.0.1&nbsp;&nbsp;</span>Centrage de l'avion</a></span><ul class=\"toc-item\"><li><span><a href=\"#Formalisme-mathématique\" data-toc-modified-id=\"Formalisme-mathématique-3.0.1.1\"><span class=\"toc-item-num\">3.0.1.1&nbsp;&nbsp;</span>Formalisme mathématique</a></span></li><li><span><a href=\"#Expression-à-l'aide-des-$\\pi_{xyp}$\" data-toc-modified-id=\"Expression-à-l'aide-des-$\\pi_{xyp}$-3.0.1.2\"><span class=\"toc-item-num\">3.0.1.2&nbsp;&nbsp;</span>Expression à l'aide des $\\pi_{xyp}$</a></span></li></ul></li><li><span><a href=\"#Sièges-fictifs\" data-toc-modified-id=\"Sièges-fictifs-3.0.2\"><span class=\"toc-item-num\">3.0.2&nbsp;&nbsp;</span>Sièges fictifs</a></span></li><li><span><a href=\"#Au-plus-un-passager-par-siège\" data-toc-modified-id=\"Au-plus-un-passager-par-siège-3.0.3\"><span class=\"toc-item-num\">3.0.3&nbsp;&nbsp;</span>Au plus un passager par siège</a></span></li><li><span><a href=\"#Exactement-un-siège-par-passager\" data-toc-modified-id=\"Exactement-un-siège-par-passager-3.0.4\"><span class=\"toc-item-num\">3.0.4&nbsp;&nbsp;</span>Exactement un siège par passager</a></span></li><li><span><a href=\"#Pas-d'enfant-au-niveau-des-issues-de-secours\" data-toc-modified-id=\"Pas-d'enfant-au-niveau-des-issues-de-secours-3.0.5\"><span class=\"toc-item-num\">3.0.5&nbsp;&nbsp;</span>Pas d'enfant au niveau des issues de secours</a></span></li><li><span><a href=\"#Pas-d'enfant-isolé\" data-toc-modified-id=\"Pas-d'enfant-isolé-3.0.6\"><span class=\"toc-item-num\">3.0.6&nbsp;&nbsp;</span>Pas d'enfant isolé</a></span></li><li><span><a href=\"#Pas-de-passager-Business-en-classe-économique\" data-toc-modified-id=\"Pas-de-passager-Business-en-classe-économique-3.0.7\"><span class=\"toc-item-num\">3.0.7&nbsp;&nbsp;</span>Pas de passager Business en classe économique</a></span></li><li><span><a href=\"#Pas-de-passager-économique-en-classe-Business\" data-toc-modified-id=\"Pas-de-passager-économique-en-classe-Business-3.0.8\"><span class=\"toc-item-num\">3.0.8&nbsp;&nbsp;</span>Pas de passager économique en classe Business</a></span></li><li><span><a href=\"#Contraintes-sur-les-Wheelchairs\" data-toc-modified-id=\"Contraintes-sur-les-Wheelchairs-3.0.9\"><span class=\"toc-item-num\">3.0.9&nbsp;&nbsp;</span>Contraintes sur les Wheelchairs</a></span></li></ul></li></ul></li><li><span><a href=\"#Le-paradigme\" data-toc-modified-id=\"Le-paradigme-4\"><span class=\"toc-item-num\">4&nbsp;&nbsp;</span>Le paradigme</a></span><ul class=\"toc-item\"><li><span><a href=\"#Bonheur-des-passagers\" data-toc-modified-id=\"Bonheur-des-passagers-4.1\"><span class=\"toc-item-num\">4.1&nbsp;&nbsp;</span>Bonheur des passagers</a></span></li><li><span><a href=\"#Principe-de-compactage\" data-toc-modified-id=\"Principe-de-compactage-4.2\"><span class=\"toc-item-num\">4.2&nbsp;&nbsp;</span>Principe de compactage</a></span></li><li><span><a href=\"#Méthode-de-la-mise-sous-vide\" data-toc-modified-id=\"Méthode-de-la-mise-sous-vide-4.3\"><span class=\"toc-item-num\">4.3&nbsp;&nbsp;</span>Méthode de la <em>mise sous vide</em></a></span></li><li><span><a href=\"#Nouvelles-variables-de-décision\" data-toc-modified-id=\"Nouvelles-variables-de-décision-4.4\"><span class=\"toc-item-num\">4.4&nbsp;&nbsp;</span>Nouvelles variables de décision</a></span></li><li><span><a href=\"#Fonction-objectif\" data-toc-modified-id=\"Fonction-objectif-4.5\"><span class=\"toc-item-num\">4.5&nbsp;&nbsp;</span>Fonction objectif</a></span></li><li><span><a href=\"#Ajout-des-temps-de-correspondance\" data-toc-modified-id=\"Ajout-des-temps-de-correspondance-4.6\"><span class=\"toc-item-num\">4.6&nbsp;&nbsp;</span>Ajout des temps de correspondance</a></span></li><li><span><a href=\"#Nouvelle-écriture-de-la-fonction-objectif\" data-toc-modified-id=\"Nouvelle-écriture-de-la-fonction-objectif-4.7\"><span class=\"toc-item-num\">4.7&nbsp;&nbsp;</span>Nouvelle écriture de la fonction objectif</a></span></li></ul></li><li><span><a href=\"#Optimisation\" data-toc-modified-id=\"Optimisation-5\"><span class=\"toc-item-num\">5&nbsp;&nbsp;</span>Optimisation</a></span></li><li><span><a href=\"#Affichage-de-la-solution\" data-toc-modified-id=\"Affichage-de-la-solution-6\"><span class=\"toc-item-num\">6&nbsp;&nbsp;</span>Affichage de la solution</a></span><ul class=\"toc-item\"><li><span><a href=\"#Permutation-des-groupes\" data-toc-modified-id=\"Permutation-des-groupes-6.1\"><span class=\"toc-item-num\">6.1&nbsp;&nbsp;</span>Permutation des groupes</a></span><ul class=\"toc-item\"><li><span><a href=\"#Export-du-résultat-en-CSV\" data-toc-modified-id=\"Export-du-résultat-en-CSV-6.1.1\"><span class=\"toc-item-num\">6.1.1&nbsp;&nbsp;</span>Export du résultat en CSV</a></span></li><li><span><a href=\"#Affichage-de-la-figure-de-l'avion\" data-toc-modified-id=\"Affichage-de-la-figure-de-l'avion-6.1.2\"><span class=\"toc-item-num\">6.1.2&nbsp;&nbsp;</span>Affichage de la figure de l'avion</a></span><ul class=\"toc-item\"><li><span><a href=\"#Avec-Plotly\" data-toc-modified-id=\"Avec-Plotly-6.1.2.1\"><span class=\"toc-item-num\">6.1.2.1&nbsp;&nbsp;</span>Avec Plotly</a></span></li></ul></li></ul></li></ul></li></ul></div>"
   ]
  },
  {
   "cell_type": "markdown",
   "metadata": {
    "id": "Mql3dULQWwF5"
   },
   "source": [
    "On s'intéresse ici à un problème d'optimisation visant à placer des passagers dans un avion de ligne de telle sorte à maximiser la satisfaction client tout en respectant un lot de consignes de sécurité obligatoires."
   ]
  },
  {
   "cell_type": "markdown",
   "metadata": {
    "id": "ywJaYqvNWwF6"
   },
   "source": [
    "# Importation des modules"
   ]
  },
  {
   "cell_type": "code",
   "execution_count": 1,
   "metadata": {
    "id": "wfM4TYFAWwF6"
   },
   "outputs": [],
   "source": [
    "import numpy as np\n",
    "import matplotlib.pyplot as plt\n",
    "%matplotlib inline\n",
    "import plotly.express as px\n",
    "\n",
    "from gurobipy import *\n",
    "\n",
    "import os\n",
    "from typing import Generator\n",
    "import pandas as pd\n",
    "\n",
    "from random import randint\n",
    "import json\n",
    "import math"
   ]
  },
  {
   "cell_type": "markdown",
   "metadata": {
    "id": "8Yr1q3xhWwF7"
   },
   "source": [
    "# L'avion"
   ]
  },
  {
   "cell_type": "markdown",
   "metadata": {
    "id": "5zsmFq-LWwF7"
   },
   "source": [
    "## Modèle de l'avion THOMAS B"
   ]
  },
  {
   "cell_type": "markdown",
   "metadata": {
    "id": "I6H9gwxUWwF7"
   },
   "source": [
    "Pour ce problème, on considère principalement un avion <strong>Airbus A320</strong> de la compagnie <strong>Air France</strong> dont l'organisation intérieure est présentée sur l'image suivante :\n",
    "<br>\n",
    "![cabineA320AF.jpg]\n",
    "<br>\n",
    "Il y a donc <strong>28 rangées</strong>, chacune possédant entre 2 et 6 sièges. Les dix premières rangées sont réservées à la classe Business (bien qu'on ne considère pas cette dernière dans la première instance de notre solution). Les issues de secours sont quant à elles situées aux rangées 11 et 12 (aucun enfant ne devra donc être assis sur un siège de l'une de ces deux rangées; mais encore une fois, cette contrainte ne s'appliquera pour les deuxième et troisième instances)."
   ]
  },
  {
   "cell_type": "markdown",
   "metadata": {
    "id": "79hbGzB8WwF8"
   },
   "source": [
    "Toutefois, pour le vol du 8 novembre, un Airbus A320 est trop petit pour accueillir les 174 passagers. Pour cette date, on utilisera donc un <strong>Airbus A321</strong> dont le plan est présenté ci-dessous :\n",
    "<br>\n",
    "![plan-cabine-MC-plan-A321-200.jpg](attachment:plan-cabine-MC-plan-A321-200.jpg)\n",
    "<br>\n",
    "La cabine de cet avion est un peu plus complexe et est composé de <strong>34 rangées</strong> pour un total de 200 sièges."
   ]
  },
  {
   "cell_type": "markdown",
   "metadata": {
    "id": "f7GqDakQWwF8"
   },
   "source": [
    "### Représentation informatique"
   ]
  },
  {
   "cell_type": "markdown",
   "metadata": {
    "id": "7f3Upgj6WwF8"
   },
   "source": [
    "Afin de rendre la modélisation informatique plus efficace, il convient de légèrement simplifier la disposition géométrique de la cabine afin de la rendre plus \"régulière\". Pour cela, on considère les hypothèses simplificatrices suivantes :\n",
    "<ul>\n",
    "    <li> L'espace entre deux rangées successives est uniforme dans toute la cabine;\n",
    "    <li> L'allée centrale est de même largeur qu'une colonne de sièges;\n",
    "    <li> L'espace entre deux sièges de classe Business est lui aussi de même largeur qu'un siège.    \n",
    "</ul>\n",
    "Une autre hypothèse que nous allons effectuer est qu'il n'y a pas de surbooking, c'est-à-dire que :\n",
    "<ul>\n",
    "    <li> Il y a de la place pour tous les passagers dans l'avion;\n",
    "    <li> Il n'y a pas plus de passagers en classe Business que de place Business disponibles dans la cabine. \n",
    "</ul>\n",
    "Cela permet donc d'avoir une représentation géométrique de l'intérieur de la cabine plus simple : une simple grille de 28 points par 7 ; chaque point étant un siège. Il suffit donc juste de considérer que certains sièges sont des sièges vides, dans le sens où personne ne pourra s'asseoir dessus, étant donné qu'en réalité, il s'agit d'espaces vides.\n",
    "<br>\n",
    "<br>\n",
    "Le code Python suivant permet donc d'afficher la cabine simplifiée telle que nous l'utiliserons dans la résolution du problème de placement des passagers.\n",
    "<br><br>\n",
    "Il suffit pour cela de choisir la catégorie d\"avion dans la cellule ci-dessous."
   ]
  },
  {
   "cell_type": "markdown",
   "metadata": {},
   "source": [
    "**Instructions :**\n",
    "> Dans le cas où "
   ]
  },
  {
   "cell_type": "code",
   "execution_count": 2,
   "metadata": {
    "id": "M9LT1GLaWwF8"
   },
   "outputs": [],
   "source": [
    "#AVION = \"A320\"\n",
    "#AVION = \"A321\"\n",
    "AVION = \"A321_nb\"  \n",
    "\n",
    "# choix de la date\n",
    "date = '10Nov' # Pour le 10 novembre, bien choisir un A321"
   ]
  },
  {
   "cell_type": "code",
   "execution_count": 3,
   "metadata": {
    "id": "wOSSOSGpWwF9"
   },
   "outputs": [],
   "source": [
    "# Chargement de l'avion à partir d'un fichier JSON\n",
    "with open('./'+AVION+'.json') as f:\n",
    "    preprocess = json.load(f)"
   ]
  },
  {
   "cell_type": "code",
   "execution_count": 4,
   "metadata": {
    "id": "kjTcAJugWwF9"
   },
   "outputs": [],
   "source": [
    "# Adaptation en dictionnaire \n",
    "avion = {\n",
    "    'x_max': preprocess['x_max'],\n",
    "    'y_max': preprocess['y_max'],\n",
    "    'exit': preprocess['exit'],\n",
    "    'hallway': preprocess['hallway'],\n",
    "    'barycentre': preprocess['barycentre'],\n",
    "    'background': preprocess['background'],\n",
    "    'seats': {\n",
    "        'real': [],\n",
    "        'fictive': [],\n",
    "        'business': [],\n",
    "        'exit': [],\n",
    "        'eco': []        \n",
    "    }\n",
    "}\n",
    "\n",
    "for seat_category in preprocess['seats'].keys():\n",
    "    for couple in preprocess['seats'][seat_category]:\n",
    "        x,y = couple[0], couple[1]\n",
    "        avion['seats'][seat_category].append((x,y))        "
   ]
  },
  {
   "cell_type": "markdown",
   "metadata": {
    "id": "Y6iVcGjKWwF9"
   },
   "source": [
    "#### Avec Plotly"
   ]
  },
  {
   "cell_type": "code",
   "execution_count": 5,
   "metadata": {
    "id": "U8rMVC7ZWwF-"
   },
   "outputs": [],
   "source": [
    "def coordToSiege(x,y):\n",
    "    gapRangee = 0\n",
    "    \n",
    "    if AVION == \"A320\":\n",
    "        \n",
    "        if x > 12:\n",
    "            gapRangee = 1\n",
    "            \n",
    "    elif AVION == \"A321\":\n",
    "        \n",
    "        if x >= 10 and x <= 13:\n",
    "            gapRangee = -1\n",
    "        elif x >= 24:\n",
    "            gapRangee = -1\n",
    "        \n",
    "    lettre = \"\"\n",
    "    if y == 1:\n",
    "        lettre = \"A\"\n",
    "    elif y == 2:\n",
    "        lettre = \"B\"\n",
    "    elif y == 3:\n",
    "        lettre = \"C\"\n",
    "    elif y == 5:\n",
    "        lettre = \"D\"\n",
    "    elif y == 6:\n",
    "        lettre = \"E\"\n",
    "    elif y == 7:\n",
    "        lettre = \"F\" \n",
    "    return str(x+gapRangee)+lettre \n",
    "\n",
    "def get_classe(x, y):\n",
    "    \n",
    "    if AVION == \"A320\":\n",
    "        if y == 4 or (x==1 and y in [4, 5, 6, 7]):\n",
    "            return 'Siège vide'\n",
    "\n",
    "        elif 1 <= x <= 9 and 1 <= y <= 7:\n",
    "            return 'Business'\n",
    "\n",
    "        elif x in [11, 12] and y in [1, 2, 3, 5, 6, 7]:\n",
    "            return 'Issue de secours'\n",
    "\n",
    "        else:\n",
    "            return 'Economie'\n",
    "        \n",
    "    elif AVION == \"A321\":\n",
    "        if y == 4 or x in [9,23] or (x,y) in [(10,5),(22,1),(22,7),(24,5)]:\n",
    "            return 'Siège vide'\n",
    "        \n",
    "        elif 1 <= x <= 8 and 1 <= y <= 7:\n",
    "            return 'Business'\n",
    "\n",
    "        elif x in [10, 24] and y in [1, 2, 3, 6, 7]:\n",
    "            return 'Issue de secours'\n",
    "\n",
    "        else:\n",
    "            return 'Economie' "
   ]
  },
  {
   "cell_type": "code",
   "execution_count": 6,
   "metadata": {
    "id": "vTnmwTdUWwF-"
   },
   "outputs": [],
   "source": [
    "## Initialisation du DataFrame\n",
    "#list_x = []\n",
    "#list_y = []\n",
    "#\n",
    "#if AVION == \"A320\":\n",
    "#    x_lim = 29\n",
    "#elif AVION == \"A321\":\n",
    "#    x_lim = 37\n",
    "#\n",
    "#for i in range(1, x_lim):\n",
    "#    for j in range(1, 8):\n",
    "#        list_x.append(i)\n",
    "#        list_y.append(j)\n",
    "#\n",
    "#df_layout = pd.DataFrame({'x': list_x, 'y': list_y})\n",
    "#\n",
    "## Ajout de la colonne 'Siège'\n",
    "#df_layout['Siège'] = None\n",
    "#df_layout['Classe'] = None\n",
    "#\n",
    "#for idx, row in df_layout.iterrows():\n",
    "#    x = row['x']\n",
    "#    y = row['y']\n",
    "#    \n",
    "#    df_layout['Siège'].iloc[idx] = coordToSiege(x, y)\n",
    "#    df_layout['Classe'].iloc[idx] = get_classe(x, y)\n",
    "#\n",
    "#df_layout"
   ]
  },
  {
   "cell_type": "code",
   "execution_count": 7,
   "metadata": {
    "id": "HKI-yWvNWwF_"
   },
   "outputs": [],
   "source": [
    "#px.scatter(df_layout,\n",
    "#           x='x',\n",
    "#           y='y',\n",
    "#           color='Classe',\n",
    "#           hover_data=['Siège', 'Classe'],\n",
    "#           title=f\"Plan de l'{AVION}\")"
   ]
  },
  {
   "cell_type": "markdown",
   "metadata": {},
   "source": [
    "### Implémentation informatique des objets"
   ]
  },
  {
   "cell_type": "markdown",
   "metadata": {
    "id": "mMKLK88NWwGI"
   },
   "source": [
    "####  Schéma simplifié de la cabine"
   ]
  },
  {
   "cell_type": "code",
   "execution_count": 8,
   "metadata": {
    "id": "ML6mmOFDWwGI",
    "outputId": "bacf097e-8dee-4bec-be29-0f1bf98190af"
   },
   "outputs": [
    {
     "name": "stderr",
     "output_type": "stream",
     "text": [
      "C:\\Users\\33695\\Anaconda3\\lib\\site-packages\\ipykernel_launcher.py:21: MatplotlibDeprecationWarning: Passing more than one positional argument to axis() is deprecated and will raise a TypeError two minor releases later.\n"
     ]
    },
    {
     "data": {
      "image/png": "[encoded data removed]",
      "text/plain": [
       "<Figure size 432x288 with 1 Axes>"
      ]
     },
     "metadata": {
      "needs_background": "light"
     },
     "output_type": "display_data"
    }
   ],
   "source": [
    "plt.scatter(1000,1000,color=\"red\",label=\"Exit\") \n",
    "plt.scatter(1000,1000,color=\"blue\",label=\"Economie\") \n",
    "plt.scatter(1000,1000,color=\"orange\",label=\"Business\") \n",
    "\n",
    "for x in range(1,avion['x_max']+1):\n",
    "    for y in range(1,avion['y_max']+1):\n",
    "        if (x,y) in avion['seats']['fictive']:\n",
    "            plt.scatter(x,y,color=\"grey\",alpha=0.3)\n",
    "        elif (x,y) in avion['seats']['business']:\n",
    "            plt.scatter(x,y,color=\"orange\")\n",
    "        elif (x,y) in avion['seats']['exit']:\n",
    "            plt.scatter(x,y,color=\"red\")\n",
    "        else:\n",
    "            plt.scatter(x,y,color=\"blue\")\n",
    "            \n",
    "plt.plot([avion['barycentre'][0],avion['barycentre'][1],avion['barycentre'][1],avion['barycentre'][0],avion['barycentre'][0]],\n",
    "         [avion['barycentre'][3],avion['barycentre'][3],avion['barycentre'][2],avion['barycentre'][2],avion['barycentre'][3]],\n",
    "         color='green',\n",
    "         label=\"Zone de Centrage\")            \n",
    "            \n",
    "plt.axis([0,avion['x_max']+1,0,8],'equal')\n",
    "plt.title(\"Disposition des sièges dans l'\"+AVION)\n",
    "plt.legend(bbox_to_anchor=(1.45,1),title=\"Légende\")\n",
    "plt.show()            "
   ]
  },
  {
   "cell_type": "markdown",
   "metadata": {
    "id": "fUIpPxRrWwGJ"
   },
   "source": [
    "###  Ensemble des passagers"
   ]
  },
  {
   "cell_type": "markdown",
   "metadata": {
    "id": "SQiyDEDJWwGJ"
   },
   "source": [
    "Afin de simplifier l'utilisation des différentes données relatives aux passagers (âge, sexe, poids, classe, temps de correspondance, ...), nous avons fait le choix d'implémenter une classe objet Python pour les modéliser informatiquement. Cela permettra un appel à ces données plus aisé et commode. La classe ```Passager``` est définie ci-dessous."
   ]
  },
  {
   "cell_type": "code",
   "execution_count": 9,
   "metadata": {
    "id": "rDeIVChzWwGJ"
   },
   "outputs": [],
   "source": [
    "numPassager = 0\n",
    "numFemme = 0\n",
    "numHomme = 0\n",
    "numEnfant = 0\n",
    "numWHCR = 0"
   ]
  },
  {
   "cell_type": "code",
   "execution_count": 10,
   "metadata": {
    "id": "VG9DW8vmWwGJ"
   },
   "outputs": [],
   "source": [
    "class Passager:\n",
    "    \n",
    "    \"\"\"\n",
    "    Une classe représentant un passager et toutes les données qui lui sont associées. \n",
    "    \"\"\"\n",
    "    \n",
    "    def __init__(self, idx, id_passager, categorie, classe, transit_time=0):\n",
    "        \n",
    "        \"\"\"\n",
    "        Constructeur pour la classe Passager.\n",
    "        \n",
    "        Args:\n",
    "            idx (int): Indice du groupe dans le fichier Excel\n",
    "            categorie (Categories): Catégorie du passager (Femme, Homme, Enfant, Fauteil Roulant)\n",
    "            classe (Classes): Lettre donnant la classe du passager\n",
    "            transit_time (string, optional): String au format %H:%M:%S donnat le\n",
    "                temps de transit pour le passager. Defaults to 0.\n",
    "        \"\"\"\n",
    "        \n",
    "        self.idx = idx\n",
    "        self.id_passager = id_passager\n",
    "        self.categorie = categorie\n",
    "        self.classe = classe\n",
    "        self.transit_time = transit_time\n",
    "        self.poids()\n",
    "    \n",
    "    def __str__(self):\n",
    "        return f'Passager # {self.id_passager}, catégorie {self.categorie} du groupe #{self.idx}, classe {self.classe} et temps de correspondance de {self.transit_time}'\n",
    "    \n",
    "    def __repr__(self):\n",
    "        return f'passager # {self.id_passager} du groupe #{self.idx}'          \n",
    "    \n",
    "    def poids(self):\n",
    "        \"\"\"\n",
    "        Définit le poids du passager selon sa catégorie.\n",
    "        \"\"\"\n",
    "        \n",
    "        global numFemme, numHomme, numWHCR, numEnfant\n",
    "        \n",
    "        if self.categorie == \"femmes\":\n",
    "            self.poids = 65 + numFemme / 100\n",
    "            numFemme += 1\n",
    "        elif self.categorie == \"hommes\":\n",
    "            self.poids = 80 + numHomme / 100\n",
    "            numHomme += 1\n",
    "        elif self.categorie == \"WHCR\":\n",
    "            self.poids = 70 + numWHCR / 100\n",
    "            numWHCR += 1\n",
    "        else:\n",
    "            self.poids = 35 + numEnfant / 100\n",
    "            numEnfant += 1"
   ]
  },
  {
   "cell_type": "markdown",
   "metadata": {
    "id": "IHlhZyvUWwGJ"
   },
   "source": [
    "Dans cette même logique, on définit une classe ```Groupe``` pour décrire les groupes de passagers voyageant ensemble."
   ]
  },
  {
   "cell_type": "code",
   "execution_count": 11,
   "metadata": {
    "id": "KAnLFMwdWwGJ"
   },
   "outputs": [],
   "source": [
    "class Groupe:\n",
    "    \n",
    "    \"\"\"\n",
    "    Une classe représentant un groupe de passagers ayant réservé leur places d'avion ensemble. \n",
    "    Un groupe correspond donc à une ligne dans le fichier Excel de départ.\n",
    "    \"\"\"\n",
    "\n",
    "    def __init__(self, idx, nb_femmes, nb_hommes, nb_enfants, nb_WCHR, classe, transit_time=0):\n",
    "        \n",
    "        \"\"\"\n",
    "        Constructeur pour la classe Groupe.\n",
    "        \n",
    "        Args:\n",
    "            idx (int): Indice du groupe dans le fichier Excel\n",
    "            nb_femmes (int): Nombre de femmes dans le groupe\n",
    "            nb_hommes (int): Nombre d'hommes dans le groupe\n",
    "            nb_enfants (int): Nombre d'enfants dans le groupe\n",
    "            nb_WCHR (int): Nombre de personnes handicapés dans le groupe\n",
    "            classe (Classes): Lettre donnant la classe du groupe\n",
    "            transit_time (string, optional): String au format %H:%M:%S donnat le\n",
    "                temps de transit pour le groupe. Defaults to 0.\n",
    "        \"\"\"\n",
    "        \n",
    "        self.idx = idx\n",
    "        self.composition = {\n",
    "            'femmes': nb_femmes,\n",
    "            'hommes': nb_hommes,\n",
    "            'enfants': nb_enfants,\n",
    "            'WHCR': nb_WCHR\n",
    "        }\n",
    "        self.classe = classe\n",
    "        self.transit_time = transit_time\n",
    "\n",
    "        self.list_passagers = []\n",
    "        global numPassager\n",
    "\n",
    "        for categorie in self.composition.keys():\n",
    "            for nbParCategorie in range(self.composition[categorie]):\n",
    "                self.list_passagers.append(Passager(\n",
    "                    self.idx,\n",
    "                    numPassager,\n",
    "                    categorie,\n",
    "                    self.classe,\n",
    "                    self.transit_time))\n",
    "                numPassager += 1   \n",
    "\n",
    "        return\n",
    "\n",
    "    def __str__(self):\n",
    "        return f'Groupe #{self.idx} avec {self.get_nombre_passagers()} passager(s), classe {self.classe} et temps de correspondance de {self.transit_time}'\n",
    "\n",
    "    def __repr__(self):\n",
    "        return f'groupe #{self.idx}'\n",
    "    \n",
    "    def iter_passagers(self):\n",
    "        \"\"\"Générateur pour la liste des passagers dans le groupe.\n",
    "        Yields:\n",
    "            Passager: instance de la classe Passager\n",
    "        \"\"\"\n",
    "        for passager in self.list_passagers:\n",
    "            yield passager\n",
    "\n",
    "    def est_seul(self):\n",
    "        \"\"\"Renvoie True si le groupe contient un seul\n",
    "        passager et False sinon.\n",
    "        \"\"\"\n",
    "        return len(self.list_passagers) == 1\n",
    "    \n",
    "    def get_nombre_passagers(self):\n",
    "        \"\"\"Renvoie le nombre de passagers dans le groupe considéré.\n",
    "        \"\"\"\n",
    "        return len(self.list_passagers)\n",
    "\n",
    "    def comprend_enfants(self):\n",
    "        \"\"\"Renvoie True si le groupe contient au moins un enfant\n",
    "        en son sein et False sinon.\n",
    "        \"\"\"\n",
    "        return any([passager.categorie == 'enfants' for passager in self.list_passagers])      "
   ]
  },
  {
   "cell_type": "markdown",
   "metadata": {
    "id": "hoQQgY1pWwGJ"
   },
   "source": [
    "####  Récupération de la liste des passagers à partir du jeu de données réelles au format ```.xlsx```"
   ]
  },
  {
   "cell_type": "markdown",
   "metadata": {
    "id": "6zdW1zAXWwGJ"
   },
   "source": [
    "On définit ci-dessous des fonctions Python permettant d'extraire les données des différents vols."
   ]
  },
  {
   "cell_type": "code",
   "execution_count": 12,
   "metadata": {
    "id": "Z1ZpItQNWwGJ"
   },
   "outputs": [],
   "source": [
    "def read_and_preprocess(date):\n",
    "    df = pd.read_csv(get_filepath(date))\n",
    "\n",
    "    # Conversion en TimeStamp\n",
    "    df['TransitTime'] = pd.to_datetime(df['TransitTime']).dt.time\n",
    "\n",
    "    return df\n",
    "\n",
    "def get_list_passagers(df):\n",
    "    list_groupes = {}\n",
    "\n",
    "    for idx, row in df.iterrows():\n",
    "\n",
    "        list_groupes[idx] = Groupe(\n",
    "            idx=idx,\n",
    "            nb_femmes=row['Femmes'],\n",
    "            nb_hommes=row['Hommes'],\n",
    "            nb_enfants=row['Enfants'],\n",
    "            nb_WCHR=row['WCHR'],\n",
    "            classe=row['Classe'],\n",
    "            transit_time=string_to_min(str(row['TransitTime']))\n",
    "        )\n",
    "    \n",
    "    return list_groupes\n",
    "\n",
    "def get_filepath(date, data_source='data'):\n",
    "    \"\"\"Renvoie le filepath d'un fichier donné \n",
    "    Args:\n",
    "        date (string): string contenant la date sous\n",
    "            le format {jour}{Mois abbrégé}\n",
    "            -> exemple : 7Nov\n",
    "    Returns:\n",
    "        string\n",
    "    \"\"\"\n",
    "    return os.path.join(data_source, f'data_seating_{date}.csv')"
   ]
  },
  {
   "cell_type": "markdown",
   "metadata": {
    "id": "9Iy5iSjsWwGJ"
   },
   "source": [
    "On commence par afficher sous forme de tableau les données du jour à des fins visuelles. Pour cela, on <strong>choisit la date dans la cellule ci-dessous</strong>."
   ]
  },
  {
   "cell_type": "code",
   "execution_count": 13,
   "metadata": {
    "colab": {
     "base_uri": "https://localhost:8080/",
     "height": 350
    },
    "id": "b8VryrNTWwGJ",
    "outputId": "5b77c562-db68-484e-880b-51796ba942f4"
   },
   "outputs": [
    {
     "data": {
      "text/html": [
       "<div>\n",
       "<style scoped>\n",
       "    .dataframe tbody tr th:only-of-type {\n",
       "        vertical-align: middle;\n",
       "    }\n",
       "\n",
       "    .dataframe tbody tr th {\n",
       "        vertical-align: top;\n",
       "    }\n",
       "\n",
       "    .dataframe thead th {\n",
       "        text-align: right;\n",
       "    }\n",
       "</style>\n",
       "<table border=\"1\" class=\"dataframe\">\n",
       "  <thead>\n",
       "    <tr style=\"text-align: right;\">\n",
       "      <th></th>\n",
       "      <th>Femmes</th>\n",
       "      <th>Hommes</th>\n",
       "      <th>Enfants</th>\n",
       "      <th>WCHR</th>\n",
       "      <th>Classe</th>\n",
       "      <th>TransitTime</th>\n",
       "    </tr>\n",
       "  </thead>\n",
       "  <tbody>\n",
       "    <tr>\n",
       "      <th>0</th>\n",
       "      <td>0</td>\n",
       "      <td>1</td>\n",
       "      <td>0</td>\n",
       "      <td>0</td>\n",
       "      <td>Y</td>\n",
       "      <td>00:00:00</td>\n",
       "    </tr>\n",
       "    <tr>\n",
       "      <th>1</th>\n",
       "      <td>1</td>\n",
       "      <td>0</td>\n",
       "      <td>0</td>\n",
       "      <td>0</td>\n",
       "      <td>Y</td>\n",
       "      <td>02:20:00</td>\n",
       "    </tr>\n",
       "    <tr>\n",
       "      <th>2</th>\n",
       "      <td>1</td>\n",
       "      <td>1</td>\n",
       "      <td>0</td>\n",
       "      <td>0</td>\n",
       "      <td>Y</td>\n",
       "      <td>00:55:00</td>\n",
       "    </tr>\n",
       "    <tr>\n",
       "      <th>3</th>\n",
       "      <td>0</td>\n",
       "      <td>1</td>\n",
       "      <td>0</td>\n",
       "      <td>0</td>\n",
       "      <td>Y</td>\n",
       "      <td>00:00:00</td>\n",
       "    </tr>\n",
       "    <tr>\n",
       "      <th>4</th>\n",
       "      <td>1</td>\n",
       "      <td>0</td>\n",
       "      <td>0</td>\n",
       "      <td>0</td>\n",
       "      <td>Y</td>\n",
       "      <td>00:00:00</td>\n",
       "    </tr>\n",
       "    <tr>\n",
       "      <th>...</th>\n",
       "      <td>...</td>\n",
       "      <td>...</td>\n",
       "      <td>...</td>\n",
       "      <td>...</td>\n",
       "      <td>...</td>\n",
       "      <td>...</td>\n",
       "    </tr>\n",
       "    <tr>\n",
       "      <th>116</th>\n",
       "      <td>4</td>\n",
       "      <td>0</td>\n",
       "      <td>0</td>\n",
       "      <td>0</td>\n",
       "      <td>Y</td>\n",
       "      <td>01:05:00</td>\n",
       "    </tr>\n",
       "    <tr>\n",
       "      <th>117</th>\n",
       "      <td>1</td>\n",
       "      <td>0</td>\n",
       "      <td>0</td>\n",
       "      <td>0</td>\n",
       "      <td>Y</td>\n",
       "      <td>01:35:00</td>\n",
       "    </tr>\n",
       "    <tr>\n",
       "      <th>118</th>\n",
       "      <td>0</td>\n",
       "      <td>1</td>\n",
       "      <td>0</td>\n",
       "      <td>0</td>\n",
       "      <td>Y</td>\n",
       "      <td>01:35:00</td>\n",
       "    </tr>\n",
       "    <tr>\n",
       "      <th>119</th>\n",
       "      <td>0</td>\n",
       "      <td>1</td>\n",
       "      <td>0</td>\n",
       "      <td>0</td>\n",
       "      <td>Y</td>\n",
       "      <td>00:00:00</td>\n",
       "    </tr>\n",
       "    <tr>\n",
       "      <th>120</th>\n",
       "      <td>1</td>\n",
       "      <td>1</td>\n",
       "      <td>0</td>\n",
       "      <td>0</td>\n",
       "      <td>Y</td>\n",
       "      <td>01:25:00</td>\n",
       "    </tr>\n",
       "  </tbody>\n",
       "</table>\n",
       "<p>121 rows × 6 columns</p>\n",
       "</div>"
      ],
      "text/plain": [
       "     Femmes  Hommes  Enfants  WCHR Classe TransitTime\n",
       "0         0       1        0     0      Y    00:00:00\n",
       "1         1       0        0     0      Y    02:20:00\n",
       "2         1       1        0     0      Y    00:55:00\n",
       "3         0       1        0     0      Y    00:00:00\n",
       "4         1       0        0     0      Y    00:00:00\n",
       "..      ...     ...      ...   ...    ...         ...\n",
       "116       4       0        0     0      Y    01:05:00\n",
       "117       1       0        0     0      Y    01:35:00\n",
       "118       0       1        0     0      Y    01:35:00\n",
       "119       0       1        0     0      Y    00:00:00\n",
       "120       1       1        0     0      Y    01:25:00\n",
       "\n",
       "[121 rows x 6 columns]"
      ]
     },
     "execution_count": 13,
     "metadata": {},
     "output_type": "execute_result"
    }
   ],
   "source": [
    "df = read_and_preprocess(date)\n",
    "df # Affichage"
   ]
  },
  {
   "cell_type": "code",
   "execution_count": 14,
   "metadata": {
    "id": "QREbY4JaWwGK"
   },
   "outputs": [],
   "source": [
    "def string_to_min(date):\n",
    "    \"\"\"\n",
    "    Fonction qui transforme une heure au format HH:MM:SS \n",
    "    en l'entier correspondant au nombre de minutes de cette dernière.\n",
    "    \"\"\"\n",
    "    \n",
    "    hms = date.split(\":\")\n",
    "    if date == \"00:00:00\":\n",
    "        return float('inf')\n",
    "    else:\n",
    "        return int(60*int(hms[0]) + int(hms[1]) + int(hms[2])*50/3)"
   ]
  },
  {
   "cell_type": "markdown",
   "metadata": {
    "id": "3H64r_wwWwGK"
   },
   "source": [
    "Ensuite, on récupère la liste des passagers numériquement afin de l'utiliser dans notre code Python :"
   ]
  },
  {
   "cell_type": "code",
   "execution_count": 15,
   "metadata": {
    "id": "zK_hTnIXWwGK"
   },
   "outputs": [],
   "source": [
    "# Liste des groupes\n",
    "listeGroupes = get_list_passagers(df)\n",
    "\n",
    "# Liste des passagers, récupérée via la liste des groupes\n",
    "listePassagers = []\n",
    "\n",
    "for groupe in listeGroupes.keys():\n",
    "    listePassagers += listeGroupes[groupe].list_passagers  \n",
    "    \n",
    "numPassager = 0 # Réinitialisation du compteur  \n",
    "numFemme = 0\n",
    "numHomme = 0\n",
    "numEnfant = 0\n",
    "numWHCR = 0"
   ]
  },
  {
   "cell_type": "markdown",
   "metadata": {
    "id": "pAaiRjHuWwGK"
   },
   "source": [
    "Ceci nous permet de connaître exactement le nombre de passagers dans l'avion :"
   ]
  },
  {
   "cell_type": "code",
   "execution_count": 16,
   "metadata": {
    "id": "oPsuAPrzWwGK"
   },
   "outputs": [
    {
     "name": "stdout",
     "output_type": "stream",
     "text": [
      "Il y a 174 passagers dans l'avion.\n"
     ]
    }
   ],
   "source": [
    "nombrePassagers = len(listePassagers)\n",
    "print(\"Il y a {} passagers dans l'avion.\".format(nombrePassagers))"
   ]
  },
  {
   "cell_type": "markdown",
   "metadata": {
    "id": "RBooD9qGWwGK"
   },
   "source": [
    "#### Ensemble des groupes avec strictement plus d'un passager"
   ]
  },
  {
   "cell_type": "markdown",
   "metadata": {
    "id": "a5VL3xL6WwGK"
   },
   "source": [
    "Comme nous le verrons plus tard, il nous est fondamental de distinguer les groupes de plus d'un passager des autres. Nous les identifions avec le code ci-dessous."
   ]
  },
  {
   "cell_type": "code",
   "execution_count": 17,
   "metadata": {
    "id": "cGsR2nzXWwGK"
   },
   "outputs": [
    {
     "name": "stdout",
     "output_type": "stream",
     "text": [
      "Il y a 32 groupes de plus d'un passagers dans l'avion. Il s'agit des groupes [2, 5, 13, 25, 26, 27, 33, 35, 36, 37, 40, 42, 43, 46, 54, 61, 62, 64, 65, 66, 71, 75, 78, 79, 84, 90, 106, 108, 111, 114, 116, 120].\n"
     ]
    }
   ],
   "source": [
    "liste_groupes_sup1 = {}\n",
    "\n",
    "for groupe in listeGroupes.keys():\n",
    "    if listeGroupes[groupe].get_nombre_passagers() > 1:\n",
    "        liste_groupes_sup1[groupe] = listeGroupes[groupe]\n",
    "        \n",
    "print(\"Il y a {} groupes de plus d'un passagers dans l'avion. Il s'agit des groupes {}.\".format(len(liste_groupes_sup1.keys()),list(liste_groupes_sup1.keys())))      "
   ]
  },
  {
   "cell_type": "markdown",
   "metadata": {
    "id": "kZ4wwtDgWwF_"
   },
   "source": [
    "### Formalisme mathématique"
   ]
  },
  {
   "cell_type": "markdown",
   "metadata": {
    "id": "IRpxBOrqWwF_"
   },
   "source": [
    "#### Ensembles principaux"
   ]
  },
  {
   "cell_type": "markdown",
   "metadata": {
    "id": "ff0Yd8f5WwF_"
   },
   "source": [
    "Afin de formellement décrire l'ensemble des passagers de l'avion ainsi que les sièges de la cabine, introduisons les ensembles suivants :\n",
    "<ul>\n",
    "    <li> $\\mathcal{P}$ l'ensemble des passagers ;\n",
    "    <li> $\\mathcal{S}_\\emptyset$ l'ensemble des sièges vides ; \n",
    "    <li> $\\mathcal{S} = [1,28] \\times [1,7] \\setminus \\mathcal{S}_\\emptyset$ l'ensemble des sièges réels.   \n",
    "</ul>\n",
    "A noter que si on voulait exprimer exhaustivement l'ensemble des sièges vides, on aurait donc : \n",
    "<br>\n",
    "$$\\mathcal{S}_\\emptyset = ([ 1,28 ] \\times \\lbrace 4 \\rbrace) \\cup (\\lbrace 1 \\rbrace \\times [ 5,8 ])$$"
   ]
  },
  {
   "cell_type": "markdown",
   "metadata": {
    "id": "qBpcLnw_bFWV"
   },
   "source": [
    "#### Définition du modèle"
   ]
  },
  {
   "cell_type": "code",
   "execution_count": 18,
   "metadata": {
    "id": "QYImZlLhWwGK",
    "outputId": "6d3eea3d-5c62-4730-85e0-154714a30675"
   },
   "outputs": [
    {
     "name": "stdout",
     "output_type": "stream",
     "text": [
      "Academic license - for non-commercial use only - expires 2021-04-10\n",
      "Using license file C:\\Users\\33695\\gurobi.lic\n"
     ]
    }
   ],
   "source": [
    "m = Model(\"Placement Passagers \"+AVION)"
   ]
  },
  {
   "cell_type": "markdown",
   "metadata": {
    "id": "pTtC6yT8WwGA"
   },
   "source": [
    "#### Variables indicatrices"
   ]
  },
  {
   "cell_type": "markdown",
   "metadata": {
    "id": "HhnJO2rwWwGA"
   },
   "source": [
    "A partir de ces ensembles, on peut donc introduire les variables indicatrices $\\pi_{xyp} \\in \\lbrace 0,1 \\rbrace$ $(p \\in \\mathcal{P}, (x,y) \\in \\mathcal{S})$ valant $1$ si le passager $p$ est assis sur le siège de coordonnées $(x,y)$, et $0$ sinon."
   ]
  },
  {
   "cell_type": "markdown",
   "metadata": {
    "id": "sFGJ9_w6WwGA"
   },
   "source": [
    "Les variables $\\pi_{xyp}$ nous serons très utiles pour exprimer des conditions liées à l'autorisation ou non que des passagers s'assoient sur un siège. Les conditions de base sont :\n",
    "<ul>\n",
    "    <li> Au plus un passager par siège : $\\forall (x,y) \\in \\mathcal{S}$, $\\sum_{p \\in \\mathcal{P}} \\pi_{xyp} \\leq 1$ ;\n",
    "    <li> Au plus un siège par passager : $\\forall p \\in \\mathcal{P}$, $\\sum_{(x,y) \\in \\mathcal{S}} \\pi_{xyp} \\leq 1$ ;\n",
    "    <li> Tous les passagers ont un siège : $\\sum_{p \\in \\mathcal{P}} \\sum_{(x,y) \\in \\mathcal{S}} \\pi_{xyp} = \\# \\mathcal{P}$ ;   \n",
    "</ul>"
   ]
  },
  {
   "cell_type": "markdown",
   "metadata": {
    "id": "vQy6NDFCWwGA"
   },
   "source": [
    "Ce modèle sera enrichi par la suite avec les différentes contraintes qui s'ajouteront à notre modèle. Par exemple, un détail important sur lequel nous nous attarderont subséquemment est le fait qu'aucun passager enfant ne doit être assis sur une rangée située au niveau des issues de secours de l'avion. Sans s'épancher sur la définition formel des deux ensemble suivants, nous pouvons écrire :\n",
    "<ul>\n",
    "    <li> $\\mathcal{E} \\subset \\mathcal{P}$ l'ensemble des passagers enfants ;\n",
    "    <li> $\\mathcal{S}_\\mathcal{I} \\subset \\mathcal{S}$ l'ensemble des sièges situés au niveau des issues de secours.\n",
    "</ul>\n",
    "Dès lors, on aura : $\\sum_{p \\in \\mathcal{E}} \\sum_{(x,y) \\in \\mathcal{S}_\\mathcal{I}} \\pi_{xyp} = 0$, ce qui signifie bien qu'aucun enfant ne devra être assis près d'une issue de secours. Toutefois, cette condition ne sera envisagée que dans la seconde phase de notre étude donc nous y reviendrons ultérieurement.\n",
    "<br> <br>\n",
    "Cette partie avait juste pour but d'introduire formellement quelques ensembles d'intérêt ainsi que les variable $\\pi_{xyp}$ qui nous serons très utiles par la suite, notamment en tant que variable de décision pour le problème d'optimisation."
   ]
  },
  {
   "cell_type": "markdown",
   "metadata": {
    "id": "CEQX1TCyWwGK"
   },
   "source": [
    "#### Variables binaires $\\pi_{xyp}$"
   ]
  },
  {
   "cell_type": "markdown",
   "metadata": {
    "id": "zljMbelHWwGK"
   },
   "source": [
    "<div style=\"text-align: justify\">\n",
    "Le problème du placement des passagers est un problème typique d'affectation. Cette catégorie de problèmes d'optimisation a communément recours à des variables binaires commes <i>briques de base</i> afin de représenter numériquement lesdites affectations.\n",
    "\n",
    "Dans notre cas, nous souhaitons savoir quel passager est affecté à quel siège de l'avion. Pour cela, nous introduisons donc des variables binaires $\\pi_{xyp}$ valant 1 si et seulement si le passager $p$ est assis sur le siège dont les coordonnées sont $(x,y)$; et 0 sinon.\n",
    "<br><br>\n",
    "Ces variables sont définies pour chaque passager et chaque siège, réel comme fictif. En effet, il est plus pratique de les définir même pour des sièges vides, quitte à les imposer égales à $0$, afin de ne pas avoir des effets de bord.  \n",
    "</div> "
   ]
  },
  {
   "cell_type": "code",
   "execution_count": 19,
   "metadata": {
    "id": "bIJ0GawfWwGL"
   },
   "outputs": [],
   "source": [
    "PI = {}\n",
    "\n",
    "for x in range(avion['x_max']+2):\n",
    "    for y in range(avion['y_max']+2):\n",
    "        for passager in listePassagers:\n",
    "            PI[x,y,passager.id_passager] = m.addVar(vtype = GRB.BINARY, name = \"pi_{},{},{}\".format(x,y,passager.id_passager))"
   ]
  },
  {
   "cell_type": "markdown",
   "metadata": {
    "id": "dpGtB8e6WwGB"
   },
   "source": [
    "#  Contraintes "
   ]
  },
  {
   "cell_type": "markdown",
   "metadata": {
    "id": "hBSb5aB4WwGB"
   },
   "source": [
    "### Centrage de l'avion"
   ]
  },
  {
   "cell_type": "markdown",
   "metadata": {
    "id": "5za0gBqTWwGB"
   },
   "source": [
    "Afin que l'avion puisse décoller sans risque et qu'il reste stable une fois en vol, le barycentre ce de dernier doit se situer dans une zone très particulière appelée \"zone de centrage\". Il s'agit d'une contrainte de sécurité forte devant être respectée obligatoirement. Cette zone se situe entre la $13^{ème}$ et la $17^{ème}$ rangée dans le sens de la longeur, et entre les deux colonnes bordant l'allée centrale dans le sens de la hauteur."
   ]
  },
  {
   "cell_type": "markdown",
   "metadata": {
    "id": "fqTGdLqmWwGB"
   },
   "source": [
    "Dans le cadre de notre problème, on considère que le barycentre de l'avion à vide se situe effectivement dans cette zone. Il nous faut donc vérifier que la répartition des masses due au positionnement des passagers conserve le barycentre dans cette même zone de centrage."
   ]
  },
  {
   "cell_type": "markdown",
   "metadata": {
    "id": "SVPsGcWIWwGB"
   },
   "source": [
    "#### Formalisme mathématique"
   ]
  },
  {
   "cell_type": "markdown",
   "metadata": {
    "id": "KbZTroarWwGD"
   },
   "source": [
    "Considérons un ensemble de $N$ masses $(m_i)_{i \\in [1,N]}$ réparties dans le plan. Pour chaque masse $m_i$, on désigne par $\\vec{p_i}=(x_i,y_i)^T$ son vecteur position en partant de l'origine dudit plan. Dès lors, le vecteur position du barycentre $\\vec{B}$ se calcule par :\n",
    "$$\\vec{B}=\\frac{\\sum_{i=1}^N m_i\\vec{p_i}}{\\sum_{i=1}^N m_i}$$\n",
    "Dès lors, en projetant cette relation selon la direction $x$ et la direction $y$, on obtient deux équations découplées donnant la position barycentre :\n",
    "<ul>\n",
    "    <li> Positionnement selon $x$ : $B_x=\\frac{\\sum_{i=1}^N m_i x_i}{\\sum_{i=1}^N m_i}$\n",
    "    <li> Positionnement selon $y$ : $B_y=\\frac{\\sum_{i=1}^N m_i y_i}{\\sum_{i=1}^N m_i}$\n",
    "</ul>        "
   ]
  },
  {
   "cell_type": "markdown",
   "metadata": {
    "id": "3vtQS7XbWwGE"
   },
   "source": [
    "Compte tenu des définitions précédentes, on peut alors réécrire les conditions à l'aide des variables $\\pi_{xyp}$ en considérant la direction $x$ définie ci-dessus comme la direction dans la longueur de l'avion, et $y$ celle dans la hauteur de ce dernier :\n",
    "<ul>\n",
    "    <li> Centrage selon la longueur : $13 \\sum_{p \\in \\mathcal{P}} m_p \\leq \\sum_{p \\in \\mathcal{P}} \\sum_{(x,y) \\in \\mathcal{S}} m_p x \\pi_{xyp} \\leq 17 \\sum_{p \\in \\mathcal{P}} m_p$\n",
    "    <li> Centrage selon la largeur : $3 \\sum_{p \\in \\mathcal{P}} m_p \\leq \\sum_{p \\in \\mathcal{P}} \\sum_{(x,y) \\in \\mathcal{S}} m_p y \\pi_{xyp} \\leq 5 \\sum_{p \\in \\mathcal{P}} m_p$  \n",
    "</ul>"
   ]
  },
  {
   "cell_type": "markdown",
   "metadata": {
    "id": "YXGCaKGzWwGE"
   },
   "source": [
    "#### Expression à l'aide des $\\pi_{xyp}$"
   ]
  },
  {
   "cell_type": "code",
   "execution_count": 20,
   "metadata": {
    "id": "V4KZRNAVWwGN"
   },
   "outputs": [],
   "source": [
    "masseTotalePassagers = sum(passager.poids for passager in listePassagers)\n",
    "\n",
    "contraintesCentrage = {}\n",
    "contraintesCentrage['x_inf'] = m.addConstr(quicksum(passager.poids*x*PI[x,y,passager.id_passager] for x,y in avion['seats']['real'] for passager in listePassagers) >= avion['barycentre'][0]*masseTotalePassagers, name = \"Barycentre_x_inf\")\n",
    "contraintesCentrage['x_sup'] = m.addConstr(quicksum(passager.poids*x*PI[x,y,passager.id_passager] for x,y in avion['seats']['real'] for passager in listePassagers) <= avion['barycentre'][1]*masseTotalePassagers, name = \"Barycentre_x_sup\")\n",
    "contraintesCentrage['y_inf'] = m.addConstr(quicksum(passager.poids*y*PI[x,y,passager.id_passager] for x,y in avion['seats']['real'] for passager in listePassagers) >= avion['barycentre'][2]*masseTotalePassagers, name = \"Barycentre_y_inf\")\n",
    "contraintesCentrage['y_sup'] = m.addConstr(quicksum(passager.poids*y*PI[x,y,passager.id_passager] for x,y in avion['seats']['real'] for passager in listePassagers) <= avion['barycentre'][3]*masseTotalePassagers, name = \"Barycentre_y_sup\")"
   ]
  },
  {
   "cell_type": "markdown",
   "metadata": {
    "id": "NwMBVwugWwGM"
   },
   "source": [
    "### Sièges fictifs"
   ]
  },
  {
   "cell_type": "markdown",
   "metadata": {
    "id": "K4gGO6hOWwGM"
   },
   "source": [
    "<div style=\"text-align: justify\">\n",
    "Comme nous l'avons expliqué précédemment, nous avons introduit des sièges fictifs afin de simplifier la représentation informatique de l'avion et pour négliger les <i>effets de bord</i>. Il faut donc imposer qu'aucun passager ne soit assis dessus. Mathématiquement, cette contrainte s'écrit :\n",
    "<br><br>\n",
    "$$\\sum_{(x,y) \\in \\mathcal{S}_{\\emptyset}} \\sum_{p \\in \\mathcal{P}} \\pi_{xyp} = 0$$\n",
    "</div>    "
   ]
  },
  {
   "cell_type": "code",
   "execution_count": 21,
   "metadata": {
    "id": "VS0Kih4KWwGM"
   },
   "outputs": [],
   "source": [
    "contrainteSiegesFictifs = m.addConstr(quicksum(PI[x,y,passager.id_passager] for x,y in avion['seats']['fictive'] for passager in listePassagers) == 0)"
   ]
  },
  {
   "cell_type": "markdown",
   "metadata": {
    "id": "FHTVI9l8WwGM"
   },
   "source": [
    "### Au plus un passager par siège"
   ]
  },
  {
   "cell_type": "markdown",
   "metadata": {
    "id": "eTZ8MA8GWwGM"
   },
   "source": [
    "<div style=\"text-align: justify\">\n",
    "Il faut de plus s'assurer qu'il y ait au plus un passager par siège. Mathématiquement, cette contrainte s'écrit :\n",
    "<br><br>\n",
    "$$\\forall (x,y) \\in \\mathcal{S}, \\; \\sum_{p \\in \\mathcal{P}} \\pi_{xyp} \\leq 1$$\n",
    "</div>    "
   ]
  },
  {
   "cell_type": "code",
   "execution_count": 22,
   "metadata": {
    "id": "AdEMFnwlWwGM"
   },
   "outputs": [],
   "source": [
    "contraintePPS = {}\n",
    "\n",
    "for x,y in avion['seats']['real']:\n",
    "    contraintePPS[(x,y)] = m.addConstr(quicksum(PI[x,y,passager.id_passager] for passager in listePassagers) <= 1, name = \"C - Au plus un passager sur le siège {},{}\".format(x,y))"
   ]
  },
  {
   "cell_type": "markdown",
   "metadata": {
    "id": "exE5nGkRWwGM"
   },
   "source": [
    "### Exactement un siège par passager"
   ]
  },
  {
   "cell_type": "markdown",
   "metadata": {
    "id": "Ky2UHopaWwGM"
   },
   "source": [
    "<div style=\"text-align: justify\">\n",
    "Un autre prérequis est que tous les passagers ayant acheté un billet puissent avoir un siège. Mathématiquement, cette contrainte s'écrit :\n",
    "<br><br>\n",
    "$$\\forall p \\in \\mathcal{P}, \\; \\sum_{(x,y) \\in \\mathcal{S}_{\\emptyset}} \\pi_{xyp} = 1$$\n",
    "</div>    "
   ]
  },
  {
   "cell_type": "code",
   "execution_count": 23,
   "metadata": {
    "id": "PMNY7voUWwGM"
   },
   "outputs": [],
   "source": [
    "contraintePPS = {}\n",
    "\n",
    "for passager in listePassagers:\n",
    "    contraintePPS[passager.id_passager] = m.addConstr(quicksum(PI[x,y,passager.id_passager] for x,y in avion['seats']['real']) == 1, name = \"C - Au plus un siège pour le passager n°{}\".format(passager.id_passager))"
   ]
  },
  {
   "cell_type": "markdown",
   "metadata": {
    "id": "GRvEHnuGWwGN"
   },
   "source": [
    "### Pas d'enfant au niveau des issues de secours"
   ]
  },
  {
   "cell_type": "markdown",
   "metadata": {
    "id": "IO9mLQ4FWwGN"
   },
   "source": [
    "<div style=\"text-align: justify\">\n",
    "Une autre contrainte portant sur la sécurité est qu'aucun enfant ne soit assis dans une rangée située au niveau d'une issue de secours. Mathématiquement, cette contrainte s'écrit :\n",
    "<br><br>\n",
    "$$\\sum_{(x,y) \\in \\mathcal{S}_{\\mathbf{I}}} \\sum_{e \\in \\mathcal{P}_{\\mathbf{E}}} \\pi_{xye} = 0$$\n",
    "</div>    "
   ]
  },
  {
   "cell_type": "code",
   "execution_count": 24,
   "metadata": {
    "id": "T1UUDZvHWwGN"
   },
   "outputs": [],
   "source": [
    "contrainte_issue_de_secours = m.addConstr(quicksum(PI[x,y,passager.id_passager] for x,y in avion['seats']['exit'] for passager in listePassagers if passager.categorie == \"enfants\") == 0)"
   ]
  },
  {
   "cell_type": "markdown",
   "metadata": {
    "id": "yP8UmLLPWwGN"
   },
   "source": [
    "### Pas d'enfant isolé"
   ]
  },
  {
   "cell_type": "markdown",
   "metadata": {
    "id": "JlVqb0UsWwGN"
   },
   "source": [
    "<div style=\"text-align: justify\">\n",
    "La contrainte de placement des enfants consiste à imposer qu'un enfant est toujours à côté d'un adulte de son groupe, tant que cela est possible. Si ce n'est pas possible, alors on impose seulement qu'il soit à côté d'un membre du groupe (adulte ou enfant). Ainsi, s'il y a plus de deux fois plus d'enfants que d'adultes, il est impossible que tous les enfants soient à côté d'un adulte donc nous sommes dans la deuxième situation.\n",
    "<br><br>\n",
    "Un enfant pourra donc toujours être à côté un adulte tant que $\\#E \\leq 2\\#A$\n",
    "    \n",
    "    \n",
    "   Afin de formaliser mathématiquement cette contrainte considérons un passager enfant $e \\in  \\mathcal{P}_{\\mathbf{E}}$ tel qu'$e$ fasse partie d'un groupe que l'on note $G \\in \\mathcal{G}_{2}^{+}$. Dès lors, pour tout siège $(x,y) \\in \\mathcal{S}$ il y a deux cas à considérer :\n",
    "<ul>\n",
    "    <li> Soit l'enfant n'est pas assis sur le siège, donc $\\pi_{xye} = 0$, et dans ce cas il n'y a rien de particulier à dire;\n",
    "    <li> Soit l'enfant est effectivement assis sur le siège, donc $\\pi_{xye} = 1$, et dans ce cas, la traduction mathématique de la contrainte s'écrit $\\sum_{p \\in G, p \\;adulte}\\pi_{x,y-1,p}+\\sum_{p \\in G, p \\; adulte}\\pi_{x,y+1,p} \\geq 1$ (avec des mots : <i>il y a au moins un adulte du groupe de $e$ à gauche et/ou à droite de ce dernier</i>).\n",
    "</ul>\n",
    "On constate donc que ces deux cas peuvent fusionner en une seule formule qui est la suivante :\n",
    "<br><br>\n",
    "$$\\sum_{p \\in G, p \\;adulte} \\pi_{x,y-1,p}+\\sum_{p \\in G, p \\;adulte}\\pi_{x,y+1,p} \\geq \\pi_{xye}$$\n",
    "<br>\n",
    "En effet, soit $\\pi_{xye} = 1$ auquel cas on retrouve bien le second cas, soit $\\pi_{xye} = 0 \\Rightarrow \\sum_{p \\in G, p \\;adulte}\\pi_{x,y-1,p}+\\sum_{p \\in G, p \\;adulte}\\pi_{x,y+1,p} \\geq 0$ ce qui n'apporte aucune restriction supplémentaire.\n",
    "<br><br>\n",
    "Ainsi, dans le cas général, la contrainte s'écrit :\n",
    "<br><br>\n",
    "$$\\forall (x,y) \\in \\mathcal{S}, \\; \\forall g \\in \\mathcal{G}_{2}^{+}, \\; \\forall e \\in g \\cap \\mathcal{P}_{\\mathbf{E}}, \\; \\sum_{p \\in G, p \\;adulte}\\pi_{x,y-1,p}+\\sum_{p \\in G, p \\;adulte}\\pi_{x,y+1,p} \\geq \\pi_{xye}$$\n",
    "<br>\n",
    "Si nous sommes dans le cas où il y a trop d'enfants, on impose les mêmes contraintes mais sans imposer que p soit un adulte.\n",
    "</div>"
   ]
  },
  {
   "cell_type": "code",
   "execution_count": 25,
   "metadata": {
    "id": "gFIpBkHKWwGN"
   },
   "outputs": [],
   "source": [
    "contrainte_aucun_enfant_isole = {}\n",
    "\n",
    "def voisinage_lateral(x,y):\n",
    "    \n",
    "    \"\"\"\n",
    "    Définit le voisinage latéral selon la position du siège.\n",
    "    \"\"\"\n",
    "    \n",
    "    if (x,y) in avion['seats']['business']:\n",
    "        if y == 1:\n",
    "            return [2]\n",
    "        elif y == 7:\n",
    "            return [-2]\n",
    "        else:\n",
    "            return [-2, 2]\n",
    "    else:\n",
    "        return [-1, 1]\n",
    "\n",
    "for groupe in liste_groupes_sup1.keys():\n",
    "    nombre_enfants = listeGroupes[groupe].composition['enfants']\n",
    "    nombre_adultes = listeGroupes[groupe].composition['femmes'] + listeGroupes[groupe].composition['hommes'] + listeGroupes[groupe].composition['WHCR']\n",
    "    if nombre_enfants >= 1: # s'il y a au moins un enfant...\n",
    "        for passager in listeGroupes[groupe].list_passagers:\n",
    "            if passager.categorie == 'enfants':\n",
    "                e = passager.id_passager\n",
    "                for x, y in avion['seats']['real']:\n",
    "                    voisinage = voisinage_lateral(x,y)\n",
    "                    if nombre_enfants > 2*nombre_adultes:\n",
    "                        contrainte_aucun_enfant_isole[x, y, e] = m.addConstr(\n",
    "                            quicksum(PI[x, y+i, passager.id_passager] for i in voisinage \n",
    "                                     for passager in listeGroupes[groupe].list_passagers \n",
    "                                     if passager.id_passager != e) \n",
    "                            >= PI[x, y, e]\n",
    "                        )\n",
    "                    else:\n",
    "                        contrainte_aucun_enfant_isole[x, y, e] = m.addConstr(\n",
    "                            quicksum(PI[x, y+i, adulte.id_passager] for i in voisinage for adulte in listeGroupes[groupe].list_passagers if adulte.categorie != 'enfants') >= PI[x, y, e]\n",
    "                        )"
   ]
  },
  {
   "cell_type": "markdown",
   "metadata": {
    "id": "urHu9kk8WwGN"
   },
   "source": [
    "### Pas de passager Business en classe économique"
   ]
  },
  {
   "cell_type": "markdown",
   "metadata": {
    "id": "DuuGiPdKWwGN"
   },
   "source": [
    "<div style=\"text-align: justify\">\n",
    "Les avions sont également dotés d'une cabine Business dans laquelle doivent être assis tous les passagers ayant acheté un billet Business. Dès lors, il faut s'assurer qu'aucun passager Business ne puisse s'asseoir en cabine économie. Mathématiquement, cette contrainte s'écrit :\n",
    "<br><br>\n",
    "$$\\sum_{p \\in \\mathcal{P}_{\\mathbf{J}}} \\sum_{(x,y) \\in \\mathcal{S}_{\\mathbf{Y}}} \\pi_{xyp} = 0$$\n",
    "</div>"
   ]
  },
  {
   "cell_type": "code",
   "execution_count": 26,
   "metadata": {
    "id": "PMMEBB8HWwGN"
   },
   "outputs": [],
   "source": [
    "contrainte_business = m.addConstr(quicksum(PI[x,y,passager.id_passager] for x,y in avion['seats']['eco'] for passager in listePassagers if passager.classe == \"J\") == 0)"
   ]
  },
  {
   "cell_type": "markdown",
   "metadata": {
    "id": "GPQDOaOAWwGN"
   },
   "source": [
    "### Pas de passager économique en classe Business"
   ]
  },
  {
   "cell_type": "markdown",
   "metadata": {
    "id": "lU8BZox0WwGN"
   },
   "source": [
    "<div style=\"text-align: justify\">\n",
    "A l'inverse, lorsqu'il y a effectivement des passagers Business dans l'avion, il faut faire en sorte que les passager de la classe économique ne puissent pas s'asseoir en cabine Business. Nous avons fait choix car nous considérons qu'il n'est pas rentable pour la compagnie de surclasser trop de passager et de plus, en surclassant des passagers, elle risque de recevoir des critiques des passagers Business ayant payé plus cher pour un service supplémentaire, mais qui, en fin de compte, partagent ces services avec d'autres passagers ne les ayant pas payés. Mathématiquement, il vient donc :\n",
    "<br><br>\n",
    "$$\\sum_{p \\in \\mathcal{P}_{\\mathbf{Y}}} \\sum_{(x,y) \\in \\mathcal{S}_{\\mathbf{J}}} \\pi_{xyp} = 0$$\n",
    "</div>"
   ]
  },
  {
   "cell_type": "code",
   "execution_count": 27,
   "metadata": {
    "id": "8Wtly5kAWwGN"
   },
   "outputs": [],
   "source": [
    "nombreBusiness = 0\n",
    "nombreEco = 0\n",
    "\n",
    "for passager in listePassagers:\n",
    "    if passager.classe == \"J\":\n",
    "        nombreBusiness += 1\n",
    "    else:\n",
    "        nombreEco += 1 + 3 * int(passager.categorie == \"WHCR\") "
   ]
  },
  {
   "cell_type": "code",
   "execution_count": 28,
   "metadata": {
    "id": "gm2Ibs0MWwGN"
   },
   "outputs": [],
   "source": [
    "contrainte_eco = m.addConstr(quicksum(PI[x,y,passager.id_passager] for x,y in avion['seats']['business'] for passager in listePassagers if passager.classe == \"Y\") == 0)"
   ]
  },
  {
   "cell_type": "markdown",
   "metadata": {
    "id": "1eXN6ZQkWwGN"
   },
   "source": [
    "### Contraintes sur les Wheelchairs"
   ]
  },
  {
   "cell_type": "markdown",
   "metadata": {},
   "source": [
    "Concernant les passagers en siège roulant, nous les plaçons dans les rangées $y=2$ et $y=6$ en leur réservant un carré. Nous définissons ainsi des valeurs interdites pour les sièges roulant, qui sont pour $y \\in \\lbrace {1,3,5,7} \\rbrace$. En effet, placer un passager en siège roulant au bord du couloir ne lui permettrait pas de manoeuvrer efficacement et le placer à côté du hublot lui donnerait moins de place. La contrainte s'écrit donc : \n",
    "$$\\sum_{(x,y)\\in S, \\;y \\in \\lbrace {1,3,5,7} \\rbrace, \\;w \\; wheelchair} \\pi_{x,y,w} = 0$$"
   ]
  },
  {
   "cell_type": "code",
   "execution_count": 29,
   "metadata": {
    "id": "tu-GrTbrWwGO"
   },
   "outputs": [],
   "source": [
    "cstr_wchr = {}\n",
    "val_interdites_y = [1,3,5,7]\n",
    "\n",
    "cstr_wchr['contrainte_globale'] = m.addConstr(quicksum(PI[x,y,w.id_passager] for x,y in avion['seats']['real'] for w in listePassagers if w.categorie == 'WHCR' and y in val_interdites_y) == 0, name = 'cstr_globale')"
   ]
  },
  {
   "cell_type": "markdown",
   "metadata": {},
   "source": [
    "Nous voulons aussi que si $\\pi_{x,y,w}=1$, nous interdisions les sièges alentours. Par exemple, pour $y=2$, on souhaite imposer que les sièges en $(x,y+1)$, $(x-1,y+1)$ et $(x-1,y)$ soient interdits, i.e $\\sum_{p\\ne w}\\pi_{x,y+1,p}+\\pi_{x-1,y+1,p}+\\pi_{x-1,y,p}=0$. On raisonne de la même manière pour $y=6$ par symétrie par rapport au couloir. On rassemble ces contraintes sous la forme ($\\delta_{y,2}$ est le symbole de kronecker): \n",
    "$$ \\forall w  \\;\\forall (x,y) \\in S \\sum_{p\\ne w}\\delta_{y,2}(\\pi_{x,y+1,p}+\\pi_{x-1,y+1,p}+\\pi_{x-1,y,p})+\\delta_{y,6}(\\pi_{x,y-1,p}+\\pi_{x-1,y-1,p}+\\pi_{x-1,y,p}) \\leq 3\\times (1-\\pi_{x,y,w})$$  \n",
    "\n",
    "Ainsi, si $\\pi_{x,y,w}=0$, la contrainte n'est pas restrictive puisque les 3 sièges sont occupés au maximum par 3 personnes. SI $\\pi_{x,y,w}=1$, alors pour $y=2$, la contrainte devient $\\sum_{p\\ne w}\\pi_{x,y+1,p}+\\pi_{x-1,y+1,p}+\\pi_{x-1,y,p} \\leq 0$"
   ]
  },
  {
   "cell_type": "code",
   "execution_count": 30,
   "metadata": {
    "id": "6LNfEPBqWwGO"
   },
   "outputs": [],
   "source": [
    "for x,y in avion['seats']['real']:\n",
    "    if y in [2,6]:\n",
    "        for passager in listePassagers:\n",
    "            if passager.categorie == 'WHCR':\n",
    "                cstr_wchr[(x,y,passager.id_passager)] = m.addConstr(quicksum((y == 2) * (PI[x,y+1,p.id_passager] + PI[x-1,y+1,p.id_passager]) + (y == 6) * (PI[x,y-1,p.id_passager] + PI[x-1,y-1,p.id_passager]) + PI[x-1,y,p.id_passager] for p in listePassagers if p.id_passager != passager.id_passager) <= 3 * (1 - PI[x,y,passager.id_passager]), name = 'wheel_{}_{}_{}'.format(x,y,passager.id_passager))"
   ]
  },
  {
   "cell_type": "markdown",
   "metadata": {},
   "source": [
    "# Le paradigme"
   ]
  },
  {
   "cell_type": "markdown",
   "metadata": {},
   "source": [
    "Maintenant que nous avons introduit formellement les briques de bases de notre modèle à l'aide des variables binaires de décision $\\pi_{xyp}$ et que nous avons traduit mathématiquement et informatiquement les contraintes élémentaires à l'aide de ces même variables, nous pouvons nous intéresser au paradigme que nous avons établi afin de maximiser les bonheur des passagers de l'avion. Nous allons donc commencer par définir concrètement cette notion de bonheur."
   ]
  },
  {
   "cell_type": "markdown",
   "metadata": {},
   "source": [
    "## Bonheur des passagers"
   ]
  },
  {
   "cell_type": "markdown",
   "metadata": {},
   "source": [
    "Considérons un passager $p$ de l'avion, voyageant au sein d'un groupe $g$ et assis sur le siège $s$. On introduit la notion de *score de voisinage* de la manière suivante : il s'agit d'un nombre valant initialement 0 et pouvant être incrémenté par deux propriétés.\n",
    "\n",
    "* si un autre membre de $g$ est assis à côté de $p$ (sur le siège à gauche de $s$ ou celui à droite), le score de voisinage est incrémenté de 1;\n",
    "* si un autre membre de $g$ est assis à devant ou derrière $p$, le score de voisinage est incrémenté de 0,5."
   ]
  },
  {
   "cell_type": "markdown",
   "metadata": {},
   "source": [
    "Compte tenu de cette métrique, nous avons été capable d'établir la disposition optimale des passagers au sein d'un groupe afin de maximiser le bonheur au sein de ce dernier. Ces dispositions sont illustrées ci-dessous. "
   ]
  },
  {
   "cell_type": "markdown",
   "metadata": {},
   "source": [
    "La fonction ci-dessous permet de donner les dimensions du rectangle optimal permettant de contenir tous les membres du groupe tout en maximisant le bonheur de ce dernier."
   ]
  },
  {
   "cell_type": "code",
   "execution_count": 31,
   "metadata": {},
   "outputs": [],
   "source": [
    "def constante_y(taille_groupe,classe):\n",
    "    \n",
    "    \"\"\"\n",
    "    Largeur du rectangle optimal pour le compactage des groupes.\n",
    "    \"\"\"\n",
    "    \n",
    "    coeff = 1 + int(classe == \"J\") # On prend en compte les plus grands espacements entre sièges en classe Business\n",
    "    if taille_groupe == 2:\n",
    "        return coeff\n",
    "    elif taille_groupe == 3:\n",
    "        return 2*coeff\n",
    "    elif taille_groupe < 7 and taille_groupe > 3:\n",
    "        return (math.ceil(taille_groupe/2) - 1)*coeff\n",
    "    elif taille_groupe <= 12 and taille_groupe >= 7:\n",
    "        return (math.ceil(taille_groupe/2))*coeff\n",
    "    else :\n",
    "        return (taille_groupe//4+2)*coeff\n",
    "        \n",
    "def constante_x(taille_groupe):\n",
    "    \n",
    "    \"\"\"\n",
    "    Hauteur du rectangle optimal pour le compactage des groupes.\n",
    "    \"\"\"\n",
    "    \n",
    "    if taille_groupe <= 3:\n",
    "        return 0\n",
    "    elif taille_groupe >= 4 and taille_groupe <= 12:\n",
    "        return 1\n",
    "    else :\n",
    "        return 2"
   ]
  },
  {
   "cell_type": "markdown",
   "metadata": {},
   "source": [
    "On remarque donc que les dispositions optimales sont relativement compactes d'où la notion de *compactage* que nous alons introduire à présent."
   ]
  },
  {
   "cell_type": "markdown",
   "metadata": {},
   "source": [
    "## Principe de compactage"
   ]
  },
  {
   "cell_type": "markdown",
   "metadata": {},
   "source": [
    "Dès lors, notre méthode consiste à faire en sorte que Gurobi place les passagers des groupes suivant le schémas de disposition optimale présenté ci-dessus. Initialement, nous avions pensé calculer le score de voisinage directement au sein de la simulation Gurobi en calculant ce dernier pour chaque passager à l'aide des variables $\\pi_{xyp}$ et en le maximisant via la fonction objectif."
   ]
  },
  {
   "cell_type": "markdown",
   "metadata": {},
   "source": [
    "Toutefois, le score étant intrinsèquement inclus dans la disposition optimale, pour notre implémentation finale, nous avons donc fait le choix de nous concentrer sur le compactage des groupes plutôt que le calcul du score de voisinage (qui de toute façon sera maximal si il est possible de placer les groupes de manière optimale)."
   ]
  },
  {
   "cell_type": "markdown",
   "metadata": {},
   "source": [
    "## Méthode de la *mise sous vide*"
   ]
  },
  {
   "cell_type": "markdown",
   "metadata": {},
   "source": [
    "Afin d'imager la méthode d'optimisation que nous avons inventée, nous avons choisi de l'appeler la méthode de *mise sous vide* à cause de sa similarité relative au principe de mise sous vide d'aliments. En effet, cette dernière se déroule au travers des étapes suivantes :\n",
    "\n",
    "* on sélectionne les aliments que l'on souhaite mettre sous vide ;\n",
    "* on les dispose dans un sachet aussi petit que possible mais pouvant tous les contenir ;\n",
    "* on enlève les bulles d'air restantes."
   ]
  },
  {
   "cell_type": "markdown",
   "metadata": {},
   "source": [
    "Notre méthode informatique de *mise sous vide* fonctionne donc suivant un principe similaire dont les étapes sont détaillées ci-dessous : \n",
    "\n",
    "* on s'intéresse uniquement aux groupes d'au moins 2 passagers ;\n",
    "* en fonction de la taille du groupe, on détermine le plus petit rectangle (ou *sachet* optimal) pouvant contenir l'intégralité du groupe conformément aux dispositions optimales ;\n",
    "* on encourage Gurobi à placer les membres du groupe dans le *sachet* en jouant sur les espacement dans le sens le la largeur (resp. longueur) de l'avion entre les passagers du groupe assis les plus à gauche (resp. les plus en haut) et ceux assis les plus à droite (resp. les plus en bas) ;\n",
    "* si des sièges vides ou des passagers hors du groupe sont dans le sachet - ce qui est tout à fait possible *a priori* - (ce que l'on appelle des *bulles d'air*), on les *aspire* vers les coins du rectangle afin de maximiser la proximité des membres du groupe au sein du rectangle et donc leur bonheur. Pour cette dernière étape, il suffit de permuter la *bulle d'air* et un membre du groupe assis dans un coin en veillant à ce que les contraintes ne soient pas violées."
   ]
  },
  {
   "cell_type": "markdown",
   "metadata": {},
   "source": [
    "Nous allons à présent passer à l'implémentation informatique de cette méthode."
   ]
  },
  {
   "cell_type": "markdown",
   "metadata": {},
   "source": [
    "## Nouvelles variables de décision"
   ]
  },
  {
   "cell_type": "markdown",
   "metadata": {},
   "source": [
    "Comme expliqué lors de la decription de la méthode de *mise sous vide*, nous avons besoin de connaître les espacements verticaux ou latéraux entre les membres du groupe situés aux *extrêmes* du rectangle les contenant tous. Pour cela, on introduit donc des variables $x_{min}^g$, $x_{max}^g$, $y_{min}^g$ et $y_{max}^g$ correspondant respectivement au plus petit numéro de rangée occupée par un membre du groupe $g$, au plus grand numéro de rangée occupée par un membre du groupe $g$, au plus petit numéro de colonne occupée par un membre du groupe $g$ et au grand petit numéro de colonne occupée par un membre du groupe $g$."
   ]
  },
  {
   "cell_type": "markdown",
   "metadata": {},
   "source": [
    "Dans les faits, il n'est pas nécessaire d'imposer, par exemple, que $x_{min}^g$ est exactement égal au minimum des numéros de rangée pour l'ensemble des passagers de $g$, mais juste d'imposer qu'il est inférieur à tous les numéros de rangée pour l'ensemble des passagers du groupe car en optimisant, Gurobi fera en sorte que $x_{min}^g$ prenne exactement la valeur du minimum des numéros de rangée du groupe. Un raisonnement analogue existe évidemment pour les trois autres variables."
   ]
  },
  {
   "cell_type": "markdown",
   "metadata": {},
   "source": [
    "On introduit également les variables d'écart $\\Delta_x^g$ et $\\Delta_y^g$ correspondant à la différence des valeurs extrêmes de $x$ et $y$ pour le groupe $g$, soit : $\\Delta_x^g = x_{max}^g - x_{min}^g$ et $\\Delta_y^g = y_{max}^g - y_{min}^g$."
   ]
  },
  {
   "cell_type": "code",
   "execution_count": 32,
   "metadata": {},
   "outputs": [],
   "source": [
    "X_MIN, X_MAX = {}, {}\n",
    "DELTA_x = {}\n",
    "\n",
    "for groupe in liste_groupes_sup1.keys():\n",
    "    if listeGroupes[groupe].get_nombre_passagers() >= 2:\n",
    "        X_MIN[groupe] = m.addVar(vtype = GRB.CONTINUOUS, lb = 1, ub = avion['x_max'], name = \"x_min_{},{},{}\".format(x,y,groupe))\n",
    "        X_MAX[groupe] = m.addVar(vtype = GRB.CONTINUOUS, lb = 1, ub = avion['x_max'], name = \"x_max_{},{},{}\".format(x,y,groupe))\n",
    "        DELTA_x[groupe] = m.addVar(vtype = GRB.CONTINUOUS, lb = constante_x(listeGroupes[groupe].get_nombre_passagers()), ub = 2*listeGroupes[groupe].get_nombre_passagers(), name = \"delta_{},{},{}\".format(x,y,groupe))"
   ]
  },
  {
   "cell_type": "code",
   "execution_count": 33,
   "metadata": {},
   "outputs": [],
   "source": [
    "X_MIN_constr, X_MAX_constr = {}, {}\n",
    "DELTA_constr_x = {}\n",
    "\n",
    "for groupe in liste_groupes_sup1.keys():\n",
    "    if listeGroupes[groupe].get_nombre_passagers() >= 2:\n",
    "        for passager in listeGroupes[groupe].list_passagers:\n",
    "            p = passager.id_passager\n",
    "            X_MIN_constr[p] = m.addConstr(X_MIN[groupe] <= quicksum(x*PI[x,y,p] for x,y in avion['seats']['real']))\n",
    "            X_MAX_constr[p] = m.addConstr(X_MAX[groupe] >= quicksum(x*PI[x,y,p] for x,y in avion['seats']['real']))\n",
    "            DELTA_constr_x[groupe] = m.addConstr(DELTA_x[groupe] == (X_MAX[groupe] - X_MIN[groupe]))"
   ]
  },
  {
   "cell_type": "code",
   "execution_count": 34,
   "metadata": {},
   "outputs": [],
   "source": [
    "Y_MIN, Y_MAX = {},{}\n",
    "DELTA_y = {}\n",
    "\n",
    "for groupe in liste_groupes_sup1.keys():\n",
    "    if listeGroupes[groupe].get_nombre_passagers() >= 2:\n",
    "        Y_MIN[groupe] = m.addVar(vtype = GRB.CONTINUOUS, lb = 1, ub = avion['y_max'], name = \"y_min_{},{},{}\".format(x,y,groupe))\n",
    "        Y_MAX[groupe] = m.addVar(vtype = GRB.CONTINUOUS, lb = 1, ub = avion['y_max'], name = \"y_max_{},{},{}\".format(x,y,groupe))\n",
    "        DELTA_y[groupe] = m.addVar(vtype = GRB.CONTINUOUS, lb = constante_y(listeGroupes[groupe].get_nombre_passagers(),listeGroupes[groupe].classe), ub = 6, name = \"delta_{},{},{}\".format(x,y,groupe))"
   ]
  },
  {
   "cell_type": "code",
   "execution_count": 35,
   "metadata": {},
   "outputs": [],
   "source": [
    "Y_MIN_constr, Y_MAX_constr = {}, {}\n",
    "DELTA_constr_y = {}\n",
    "\n",
    "for groupe in liste_groupes_sup1.keys():\n",
    "    if listeGroupes[groupe].get_nombre_passagers() >= 2:\n",
    "        for passager in listeGroupes[groupe].list_passagers:\n",
    "            p = passager.id_passager\n",
    "            Y_MIN_constr[p] = m.addConstr(Y_MIN[groupe] <= quicksum(y*PI[x,y,p] for x,y in avion['seats']['real']))\n",
    "            Y_MAX_constr[p] = m.addConstr(Y_MAX[groupe] >= quicksum(y*PI[x,y,p] for x,y in avion['seats']['real']))\n",
    "            DELTA_constr_y[groupe] = m.addConstr(DELTA_y[groupe] == (Y_MAX[groupe] - Y_MIN[groupe]))"
   ]
  },
  {
   "cell_type": "markdown",
   "metadata": {},
   "source": [
    "## Fonction objectif"
   ]
  },
  {
   "cell_type": "markdown",
   "metadata": {},
   "source": [
    "On souhaite donc faire en sorte que Gurobi dispose les membres du même groupe dans le *sachet* optimal pour nous permettre ensuite d'en retirer les *bulles d'air*. En notant $C_x^g$ et $C_y^g$ les écarts maximaux latéral et vertical entre les passagers du groupe $g$ quand ceux-ci sont placés dans le *sachet* optimal, il est immédiat que les différences $\\Delta_x^g - C_x^g$ et $\\Delta_y^g - C_y^g$ sont toutes les deux positives, et en particulier nulles quand les espacements maximaux entre membres du groupe coïncident avec ceux au sein du *sachet* optimal."
   ]
  },
  {
   "cell_type": "markdown",
   "metadata": {},
   "source": [
    "Dans le cas optimal, on souhaite donc que toutes ces différences soient nulles, c'est-à-dire que tous les groupes soient placés dans leur sachet optimal, de telle sorte que nous n'ayons plus qu'à opérer des permutations intra-*sachet* pour maximiser le bonheur des groupes. A noter que les *sachets* sont tous indépendants les uns des autres donc la permutation de l'un n'affecte pas la disposition de l'autre."
   ]
  },
  {
   "cell_type": "markdown",
   "metadata": {},
   "source": [
    "Ainsi, notre fonction objectif s'écrit : $$\\mbox{Minimize} \\; \\; \\; \\sum_{g \\in \\mathcal{G}_{2}^{+}} (\\Delta_x^g - C_x^g) + (\\Delta_y^g - C_y^g)$$"
   ]
  },
  {
   "cell_type": "markdown",
   "metadata": {},
   "source": [
    "## Ajout des temps de correspondance"
   ]
  },
  {
   "cell_type": "markdown",
   "metadata": {},
   "source": [
    "Toutefois, le modèle n'est pas encore complet car les temps de correspondance des passagers ne sont pas pris en compte. Or, ces derniers jouent un rôle non négligeable dans la disposition des passagers dans l'avion. En effet, moins le temps de correspondance d'un passager est long, plus ce dernier doit être assis à l'avant de la cabine afin d'en sortir le plus vite possible et ainsi être en mesure d'avoir son avion suivant."
   ]
  },
  {
   "cell_type": "markdown",
   "metadata": {},
   "source": [
    "Considérons un passager $p$ ayant un temps de correspondance $\\tau_p$ et assis sur un siège de la rangée $x$. On introduit une *constante de sortie* $K_s$ qui matérialise en secondes le temps nécéssaire aux passagers pour sortir de leur rangée. Afin de sortir de la cabine, notre passager $p$ doit donc attendre $x-1$ fois un temps $K_s$ afin que les rangées devant la sienne ne se vident, puis nécessitera un temps $K_s$ afin de quitter la sienne. Au total, c'est d'un temps $K_sx$ dont il aura eu besoin pour sortir de la cabine."
   ]
  },
  {
   "cell_type": "markdown",
   "metadata": {},
   "source": [
    "Ainsi, la formule $1-K_s\\frac{x}{\\tau_p}$ donne un nombre en 0 et 1 qui indique le pourcentage du temps de correspondance de $p$ dédié à son déplacment dans l'aéroport pour aller prendre son autre avion. On comprend donc que pour limiter le stress et accroître le bonheur des passagers, il convient de maximiser ce pourcentage autant que possible. Il conviendrait donc de maximiser la somme : $$\\sum_{p \\in \\mathcal{P}_\\tau} 1-K_s\\frac{x_p}{\\tau_p}$$"
   ]
  },
  {
   "cell_type": "markdown",
   "metadata": {},
   "source": [
    "Or, on sait d'après la partie précédente que dans la situation optimale, la somme $\\sum_{g \\in \\mathcal{G}_{2}^{+}} (\\Delta_x^g - C_x^g) + (\\Delta_y^g - C_y^g)$ vaut exactement 0. On entrevoit donc la possibilité de fusionner nos deux sommes en une seule."
   ]
  },
  {
   "cell_type": "markdown",
   "metadata": {},
   "source": [
    "On commence pour cela à multiplier par $-1$ cette somme afin que nous passions d'un problème de minimisation à un problème de maximisation. De plus, on souhaite compacter les groupes dans leur *sachet* optimal. Nous ne pouvons pas, pour cela, l'imposer sous forme de contrainte car ce ne serait pas assez permissif et pourrait conduire à l'infaisibilité du modèle. Toutefois, pour outrepasser cet écueil, il suffit de remplacer le poids $-1$ devant la somme $\\sum_{g \\in \\mathcal{G}_{2}^{+}} (\\Delta_x^g - C_x^g) + (\\Delta_y^g - C_y^g)$ par un coefficient de pénalité $-\\lambda \\; (\\lambda \\geq 0)$ de notre choix - mais vraisemblablement plus grand en valeur absolue que 1 - de telle sorte que le modèle soit tellement pénalisé par un placement non optimal du groupe que Gurobi a plus qu'intérêt à la rendre égale à 0, c'est-à-dire compacter les groupes de manière optimale."
   ]
  },
  {
   "cell_type": "markdown",
   "metadata": {},
   "source": [
    "## Nouvelle écriture de la fonction objectif"
   ]
  },
  {
   "cell_type": "markdown",
   "metadata": {},
   "source": [
    "Compte tenu de toutes les remarques précédentes, on peut donc écrire la version finale de notre fonction objectif qui assure un placement optimal des groupes couplé à un placement à l'avant des passagers en correspondance."
   ]
  },
  {
   "cell_type": "markdown",
   "metadata": {},
   "source": [
    "$$\\boxed{\\mbox{Maximize} \\; \\; \\; \\sum_{p \\in \\mathcal{P}_\\tau} \\left ( 1-K_s\\frac{x_p}{\\tau_p} \\right )- \\lambda \\sum_{g \\in \\mathcal{G}_{2}^{+}} \\left [ (\\Delta_x^g - C_x^g) + (\\Delta_y^g - C_y^g) \\right ]}$$"
   ]
  },
  {
   "cell_type": "code",
   "execution_count": 36,
   "metadata": {},
   "outputs": [],
   "source": [
    "KS = 0.5 # Constante de sortie \n",
    "LAMBDA = 100 # Coefficient de pénalité"
   ]
  },
  {
   "cell_type": "code",
   "execution_count": 37,
   "metadata": {},
   "outputs": [],
   "source": [
    "m.setObjective(\n",
    "    quicksum(1 - KS * quicksum(x * PI[x,y,passager.id_passager] for x,y in avion['seats']['real'])/passager.transit_time for passager in listePassagers if passager.transit_time<float('inf'))\n",
    "    - LAMBDA * quicksum(DELTA_x[groupe] - constante_x(listeGroupes[groupe].get_nombre_passagers()) for groupe in DELTA_x.keys())\n",
    "    - LAMBDA * quicksum(DELTA_y[groupe] - constante_y(listeGroupes[groupe].get_nombre_passagers(),listeGroupes[groupe].classe) for groupe in DELTA_y.keys())\n",
    "    , GRB.MAXIMIZE\n",
    ")"
   ]
  },
  {
   "cell_type": "markdown",
   "metadata": {
    "id": "QivXJ4b6WwGO"
   },
   "source": [
    "# Optimisation"
   ]
  },
  {
   "cell_type": "code",
   "execution_count": 38,
   "metadata": {
    "id": "0HdKfXgqWwGO",
    "outputId": "620dd2af-2f14-4d61-ec55-f611344fd35b"
   },
   "outputs": [
    {
     "name": "stdout",
     "output_type": "stream",
     "text": [
      "Parameter outputflag unchanged\n",
      "   Value: 1  Min: 0  Max: 1  Default: 1\n"
     ]
    }
   ],
   "source": [
    "# -- Paramétrage --\n",
    "m.params.outputflag = 1\n",
    "\n",
    "# -- Mise à jour du modèle  --\n",
    "m.update()"
   ]
  },
  {
   "cell_type": "code",
   "execution_count": 39,
   "metadata": {
    "id": "bcolSOUoWwGO"
   },
   "outputs": [],
   "source": [
    "# Définition du callback\n",
    "## -> interruption de l'optimization au delà d'un certain temps et en deçà d'un certain seuil\n",
    "\n",
    "def softtime(model, where):\n",
    "    if where == GRB.Callback.MIP:\n",
    "        runtime = model.cbGet(GRB.Callback.RUNTIME)\n",
    "        objbst = model.cbGet(GRB.Callback.MIP_OBJBST)\n",
    "        objbnd = model.cbGet(GRB.Callback.MIP_OBJBND)\n",
    "        gap = abs((objbst - objbnd) / objbst)\n",
    "\n",
    "        if runtime > 250 :#and gap < 0.375:\n",
    "            model.terminate()\n",
    "            "
   ]
  },
  {
   "cell_type": "code",
   "execution_count": null,
   "metadata": {
    "id": "-0rMAtQPWwGO",
    "outputId": "a6a7162b-7f2f-4ee4-8d81-7be846412c40"
   },
   "outputs": [
    {
     "name": "stdout",
     "output_type": "stream",
     "text": [
      "Gurobi Optimizer version 9.1.1 build v9.1.1rc0 (win64)\n",
      "Thread count: 6 physical cores, 12 logical processors, using up to 12 threads\n",
      "Optimize a model with 4293 rows, 59700 columns and 392328 nonzeros\n",
      "Model fingerprint: 0x80b555e7\n",
      "Variable types: 192 continuous, 59508 integer (59508 binary)\n",
      "Coefficient statistics:\n",
      "  Matrix range     [1e+00, 3e+03]\n",
      "  Objective range  [2e-03, 1e+02]\n",
      "  Bounds range     [1e+00, 4e+01]\n",
      "  RHS range        [1e+00, 3e+05]\n",
      "Presolve removed 4 rows and 24602 columns\n",
      "Presolve time: 0.83s\n",
      "Presolved: 4289 rows, 35098 columns, 276430 nonzeros\n",
      "Variable types: 96 continuous, 35002 integer (34861 binary)\n",
      "\n",
      "Root relaxation: objective 1.151095e+02, 7445 iterations, 0.76 seconds\n",
      "\n",
      "    Nodes    |    Current Node    |     Objective Bounds      |     Work\n",
      " Expl Unexpl |  Obj  Depth IntInf | Incumbent    BestBd   Gap | It/Node Time\n",
      "\n",
      "     0     0  115.10949    0  175          -  115.10949      -     -    2s\n",
      "H    0     0                    -4085.593413  115.10949   103%     -    2s\n",
      "H    0     0                    -2284.891796  115.10949   105%     -    5s\n",
      "H    0     0                    -1485.174180  115.10949   108%     -    8s\n",
      "     0     0  115.10949    0  297 -1485.1742  115.10949   108%     -   10s\n",
      "H    0     0                    -885.1599787  115.10949   113%     -   16s\n",
      "     0     0  115.10949    0  299 -885.15998  115.10949   113%     -   16s\n",
      "     0     0  115.10949    0  121 -885.15998  115.10949   113%     -   20s\n",
      "     0     0  115.10949    0  160 -885.15998  115.10949   113%     -   21s\n",
      "     0     0  115.10949    0  138 -885.15998  115.10949   113%     -   25s\n",
      "     0     0  115.10949    0  174 -885.15998  115.10949   113%     -   25s\n",
      "     0     0  115.10949    0  123 -885.15998  115.10949   113%     -   28s\n",
      "     0     0  115.10949    0  194 -885.15998  115.10949   113%     -   30s\n",
      "     0     0  115.10949    0  125 -885.15998  115.10949   113%     -   32s\n",
      "     0     0  115.10949    0  125 -885.15998  115.10949   113%     -   34s\n",
      "     0     2  115.10949    0  120 -885.15998  115.10949   113%     -   39s\n",
      "     1     3  115.10949    1  110 -885.15998  115.10949   113%   477   41s\n",
      "    11    14  115.10949    4  211 -885.15998  115.10949   113%   185   47s\n",
      "    17    19  115.10903    5  358 -885.15998  115.10949   113%   662   74s\n",
      "    23    25  115.10941    5  221 -885.15998  115.10941   113%  1603   75s\n",
      "H   29    31                    -485.1605663  115.10941   124%  1286   92s\n",
      "H   30    31                    -385.1142675  115.10941   130%  1247   92s\n",
      "    46    47  115.10873    9  228 -385.11427  115.10941   130%   830   96s\n",
      "    90   150  115.10864   17  233 -385.11427  115.10941   130%   448  108s\n",
      "H  110   150                    -284.9902175  115.10941   140%   372  108s\n",
      "H  160   150                    -284.9829809  115.10941   140%   276  108s\n",
      "   161   261  115.10865   29  223 -284.98298  115.10941   140%   276  117s\n",
      "   288   336  115.10862   46  237 -284.98298  115.10941   140%   191  142s\n",
      "H  300   336                    -185.2835070  115.10941   162%   188  142s\n",
      "H  366   684                    -185.2729337  115.10941   162%   170  167s\n",
      "H  758   684                      14.5923572  115.10941   689%   128  167s\n"
     ]
    }
   ],
   "source": [
    "# -- Résolution --\n",
    "#m.optimize(softtime)\n",
    "m.optimize()"
   ]
  },
  {
   "cell_type": "markdown",
   "metadata": {
    "id": "AtR0kmCfWwGO"
   },
   "source": [
    "# Affichage de la solution"
   ]
  },
  {
   "cell_type": "markdown",
   "metadata": {
    "id": "c4TJfWJlWwGO"
   },
   "source": [
    "Une fois la solution optimale du problème calculée par Gurobi, on commence par récupérer, pour chaque passager, les coordonnées du siège où il est assis à l'aide des variables de décision $\\pi_{xyp}$."
   ]
  },
  {
   "cell_type": "code",
   "execution_count": null,
   "metadata": {
    "id": "Sf8svdz9WwGP",
    "outputId": "fb81ba16-2443-4560-aceb-1dd16091d125",
    "scrolled": false
   },
   "outputs": [],
   "source": [
    "placement = {}\n",
    "\n",
    "for passager in listePassagers:\n",
    "    for x,y in avion['seats']['real']:\n",
    "        if PI[x,y,passager.id_passager].x == 1:\n",
    "            placement[passager.id_passager] = (x,y)  \n",
    "            \n",
    "for groupe in listeGroupes.keys():\n",
    "    print(\"Groupe #{} (temps de correspondance : {} min):\".format(groupe,listeGroupes[groupe].transit_time))\n",
    "    for passager in listeGroupes[groupe].list_passagers:\n",
    "        if passager.id_passager in placement.keys():\n",
    "            coord = placement[passager.id_passager]\n",
    "            x,y = coord\n",
    "            print(\"{} assis sur le siège {} = {}\".format(passager.id_passager,coord,coordToSiege(x,y)))\n",
    "    print(\"\\n\")    "
   ]
  },
  {
   "cell_type": "markdown",
   "metadata": {
    "id": "OWghHxqWWwGP"
   },
   "source": [
    "## Permutation des groupes"
   ]
  },
  {
   "cell_type": "markdown",
   "metadata": {},
   "source": [
    "Conformément au paragraphe détaillant la méthode de *mise sous vide*, nous devons à présent nous assurer que la disposition des membres des groupes est optimale au sein de leurs *sachets* respectifs et opérer des permutatations dans le cas contraire."
   ]
  },
  {
   "cell_type": "code",
   "execution_count": null,
   "metadata": {
    "id": "qsGJLa1zWwGP",
    "outputId": "9d47805e-d2d9-460b-969e-009ac3e1f6af"
   },
   "outputs": [],
   "source": [
    "for groupe in listeGroupes:\n",
    "    if listeGroupes[groupe].get_nombre_passagers() >= 4:\n",
    "        x_min = min([placement[passager.id_passager][0] for passager in listeGroupes[groupe].list_passagers])\n",
    "        x_max = max([placement[passager.id_passager][0] for passager in listeGroupes[groupe].list_passagers])\n",
    "        y_min = min([placement[passager.id_passager][1] for passager in listeGroupes[groupe].list_passagers])\n",
    "        y_max = max([placement[passager.id_passager][1] for passager in listeGroupes[groupe].list_passagers])\n",
    "        print(x_min,x_max,y_min,y_max)\n",
    "        cluster = [(i,j) for i in range(x_min,x_max+1) for j in range(y_min,y_max+1)]\n",
    "        corners = [(x_min,y_min),(x_min,y_max),(x_max,y_min),(x_max,y_max)]\n",
    "        \n",
    "        if listeGroupes[groupe].get_nombre_passagers() != 13: # On gère à part le cas pathologique\n",
    "            positions = {}\n",
    "            void_coord = (0,0)\n",
    "            for i,j in cluster:\n",
    "                if (i,j) in avion['seats']['fictive'] or sum((passager.idx+1)*PI[i,j,passager.id_passager].x for passager in listePassagers) == groupe + 1:\n",
    "                    positions[i,j] = 1\n",
    "                elif sum((passager.idx+1)*PI[i,j,passager.id_passager].x for passager in listePassagers) == 0:\n",
    "                    positions[i,j] = 0\n",
    "                    void_coord = (i,j)\n",
    "                else:\n",
    "                    positions[i,j] = -1\n",
    "                    void_coord = (i,j)\n",
    "            print(positions)                        \n",
    "            if void_coord not in corners and void_coord != (0,0):\n",
    "                i,j = void_coord\n",
    "                print(\"hello\")\n",
    "                if positions[i,j] == 0: # S'il y a un vide entre les passagers du groupe\n",
    "                    if (i,j) in avion['seats']['exit']: # Si le trou est au niveau d'une issue de secours\n",
    "                        if j <= 4:\n",
    "                            # On échange avec le passager tout à gauche de la rangée\n",
    "                            swap_passager = sum((passager.id_passager)*PI[i,y_min,passager.id_passager].x for passager in listePassagers)\n",
    "                            placement[int(swap_passager)] = (i,j)\n",
    "\n",
    "                        else:\n",
    "                            # On échange avec le passager tout à droite de la rangée\n",
    "                            swap_passager = sum((passager.id_passager)*PI[i,y_max,passager.id_passager].x for passager in listePassagers)\n",
    "                            placement[int(swap_passager)] = (i,j)\n",
    "                            \n",
    "                    else: # Sinon dans le cas général\n",
    "                        # On échange avec le passager tout en bas à gauche\n",
    "                        swap_passager = sum((passager.id_passager)*PI[x_max,y_min,passager.id_passager].x for passager in listePassagers)\n",
    "                        print(swap_passager)\n",
    "                        placement[int(swap_passager)] = (i,j)\n",
    "                        \n",
    "                elif positions[i,j] == 1: # S'il y a un passager qui n'est pas membre du groupe dans le cluster  \n",
    "                    if (i,j) in avion['seats']['exit'] or i == x_min: # Si le trou est au niveau d'une issue de secours ou que le passager a un temps de correspondance inférieur à celui du groupe\n",
    "                        stranger = sum((passager.id_passager)*PI[i,j,passager.id_passager].x for passager in listePassagers)\n",
    "                        swap_passager = sum((passager.id_passager)*PI[i,y_min,passager.id_passager].x for passager in listePassagers)\n",
    "                        placement[int(swap_passager)] = (i,j)\n",
    "                        placement[int(stranger)] = (i,y_min)\n",
    "                    else: # Sinon dans le cas général\n",
    "                        stranger = sum((passager.id_passager)*PI[i,j,passager.id_passager].x for passager in listePassagers)\n",
    "                        swap_passager = sum((passager.id_passager)*PI[x_max,y_min,passager.id_passager].x for passager in listePassagers)\n",
    "                        placement[int(swap_passager)] = (i,j)\n",
    "                        placement[int(stranger)] = (x_max,y_min)\n",
    "                        \n",
    "                    \n",
    "                    \n",
    "            \n",
    "            "
   ]
  },
  {
   "cell_type": "markdown",
   "metadata": {
    "id": "Kqybf7ZrWwGP"
   },
   "source": [
    "### Export du résultat en CSV"
   ]
  },
  {
   "cell_type": "code",
   "execution_count": null,
   "metadata": {
    "id": "kUbIN7ACWwGP"
   },
   "outputs": [],
   "source": [
    "def exporter_resultats(listeGroupes, placement):    \n",
    "    list_id_groupe = []\n",
    "    list_id_passager = []\n",
    "    list_categorie = []\n",
    "    list_classe = []\n",
    "    list_transit_time = []\n",
    "    list_poids = []\n",
    "    list_x = []\n",
    "    list_y = []\n",
    "    list_siege = []\n",
    "    list_classes = []\n",
    "    \n",
    "    for groupe in listeGroupes.keys():        \n",
    "        for passager in listeGroupes[groupe].list_passagers:\n",
    "            if passager.id_passager in placement.keys():\n",
    "                x, y = placement[passager.id_passager]\n",
    "                siege = coordToSiege(x, y)\n",
    "                \n",
    "                list_id_groupe.append(groupe)\n",
    "                list_id_passager.append(passager.id_passager)\n",
    "                list_categorie.append(passager.categorie)\n",
    "                list_classe.append(passager.classe)\n",
    "                list_transit_time.append(passager.transit_time)\n",
    "                list_poids.append(passager.poids)\n",
    "                list_x.append(x)\n",
    "                list_y.append(y)\n",
    "                list_siege.append(siege)\n",
    "                list_classes.append(get_classe(x, y))\n",
    "    \n",
    "    df = pd.DataFrame({\n",
    "        'ID Groupe': list_id_groupe,\n",
    "        'ID Passager': list_id_passager,\n",
    "        'Catégorie': list_categorie,\n",
    "        'Classe': list_classe,\n",
    "        'Transit Time': list_transit_time,\n",
    "        'Poids': list_poids,\n",
    "        'x': list_x,\n",
    "        'y': list_y,\n",
    "        'Siège': list_siege,\n",
    "        'Classe': list_classes\n",
    "    })\n",
    "    \n",
    "    return df"
   ]
  },
  {
   "cell_type": "code",
   "execution_count": null,
   "metadata": {
    "id": "B_-ewpG1WwGP",
    "outputId": "209e576d-76c4-4d52-bbab-e8e8d80614fb"
   },
   "outputs": [],
   "source": [
    "df_ans = exporter_resultats(listeGroupes, placement)"
   ]
  },
  {
   "cell_type": "code",
   "execution_count": null,
   "metadata": {
    "id": "5EFVFvyIWwGP"
   },
   "outputs": [],
   "source": [
    "df_ans.to_csv('solution_1.csv', index=False)"
   ]
  },
  {
   "cell_type": "markdown",
   "metadata": {
    "id": "L6UVpx0TWwGP"
   },
   "source": [
    "### Affichage de la figure de l'avion"
   ]
  },
  {
   "cell_type": "markdown",
   "metadata": {
    "id": "vjD2ejdeWwGP"
   },
   "source": [
    "#### Avec Plotly"
   ]
  },
  {
   "cell_type": "code",
   "execution_count": null,
   "metadata": {
    "id": "D_EqHlOJWwGP"
   },
   "outputs": [],
   "source": [
    "marker_list = []\n",
    "\n",
    "for passager in listePassagers:\n",
    "    if passager.classe == \"J\":\n",
    "        dot = \"-dot\"\n",
    "    else:\n",
    "        dot = \"\"\n",
    "    if passager.categorie == \"femmes\":\n",
    "        marker_list.append('circle'+dot)    \n",
    "    elif passager.categorie == \"hommes\":\n",
    "        marker_list.append('hexagon'+dot)\n",
    "    elif passager.categorie == \"enfants\":\n",
    "        marker_list.append('star'+dot)   \n",
    "    elif passager.categorie == \"WHCR\":\n",
    "        marker_list.append('star-square'+dot)  "
   ]
  },
  {
   "cell_type": "code",
   "execution_count": null,
   "metadata": {
    "id": "DmMhis8dWwGP",
    "outputId": "42ae2f75-cf62-4c8a-8557-a18a1a54b384",
    "scrolled": false
   },
   "outputs": [],
   "source": [
    "import plotly.graph_objects as go\n",
    "fig = px.scatter(\n",
    "    df_ans,\n",
    "    x='x',\n",
    "    y='y',\n",
    "    color='ID Groupe',\n",
    "    hover_name='Siège',\n",
    "    size='Poids',\n",
    "    hover_data=df_ans.columns,\n",
    "    title=f\"Placement de passagers optimal pour l'{AVION} pour le {date[:date.index('N')]} Novembre (contentement général de {m.objVal})\",\n",
    "    template=\"plotly_white\",\n",
    "    color_continuous_scale=px.colors.diverging.RdBu)\n",
    "\n",
    "fig.update_traces(marker=dict(line=dict(width=2, color='black')),\n",
    "                  marker_symbol=marker_list,\n",
    "                  selector=dict(mode='markers'))\n",
    "\n",
    "## Ajout du barycentre\n",
    "fig.add_trace(\n",
    "    go.Scatter(x=[sum(x*p.poids*PI[x,y,p.id_passager].x for x,y in avion['seats']['real'] for p in listePassagers) / masseTotalePassagers],\n",
    "               y=[sum(y*p.poids*PI[x,y,p.id_passager].x for x,y in avion['seats']['real'] for p in listePassagers) / masseTotalePassagers],\n",
    "               name=\"Barycentre\",\n",
    "               showlegend=True,\n",
    "               marker_symbol=[\"star-triangle-up-dot\"],\n",
    "               mode=\"markers\",\n",
    "               marker=dict(size=20,\n",
    "                           color=\"green\",\n",
    "                           line=dict(width=2, color='DarkSlateGrey'))))\n",
    "\n",
    "# Positionnement de la légende\n",
    "fig.update_layout(legend=dict(\n",
    "    orientation=\"h\",\n",
    "    yanchor=\"bottom\",\n",
    "    y=1.02,\n",
    "    xanchor=\"right\",\n",
    "    x=1\n",
    "))\n",
    "\n",
    "\n",
    "## Ajout des barres colorées pour visualiser les emplacements spécifiques de l'avion\n",
    "#Issues de Secours\n",
    "fig.add_shape(x0=10.5,\n",
    "              x1=12.5,\n",
    "              y0=0.5,\n",
    "              y1=0.6,\n",
    "              fillcolor=\"red\",\n",
    "              line=dict(width=0),\n",
    "              opacity=0.25)\n",
    "fig.add_shape(x0=10.5,\n",
    "              x1=12.5,\n",
    "              y0=7.4,\n",
    "              y1=7.5,\n",
    "              fillcolor=\"red\",\n",
    "              line=dict(width=0),\n",
    "              opacity=0.25)\n",
    "\n",
    "#Classe Business\n",
    "fig.add_shape(x0=0.5,\n",
    "              x1=9.5,\n",
    "              y0=0.5,\n",
    "              y1=0.6,\n",
    "              fillcolor=\"orange\",\n",
    "              line=dict(width=0),\n",
    "              opacity=0.25)\n",
    "fig.add_shape(x0=0.5,\n",
    "              x1=9.5,\n",
    "              y0=7.4,\n",
    "              y1=7.5,\n",
    "              fillcolor=\"orange\",\n",
    "              line=dict(width=0),\n",
    "              opacity=0.25)\n",
    "\n",
    "#Classe Economie\n",
    "fig.add_shape(x0=9.5,\n",
    "              x1=10.5,\n",
    "              y0=0.5,\n",
    "              y1=0.6,\n",
    "              fillcolor=\"blue\",\n",
    "              line=dict(width=0),\n",
    "              opacity=0.25)\n",
    "fig.add_shape(x0=9.5,\n",
    "              x1=10.5,\n",
    "              y0=7.4,\n",
    "              y1=7.5,\n",
    "              fillcolor=\"blue\",\n",
    "              line=dict(width=0),\n",
    "              opacity=0.25)\n",
    "fig.add_shape(x0=12.5,\n",
    "              x1=28.5,\n",
    "              y0=0.5,\n",
    "              y1=0.6,\n",
    "              fillcolor=\"blue\",\n",
    "              line=dict(width=0),\n",
    "              opacity=0.25)\n",
    "fig.add_shape(x0=12.5,\n",
    "              x1=28.5,\n",
    "              y0=7.4,\n",
    "              y1=7.5,\n",
    "              fillcolor=\"blue\",\n",
    "              line=dict(width=0),\n",
    "              opacity=0.25)\n",
    "\n",
    "\n",
    "# Add images\n",
    "fig.add_layout_image(avion['background']) \n",
    "\n",
    "fig.show()"
   ]
  }
 ],
 "metadata": {
  "colab": {
   "collapsed_sections": [
    "GjzK3E60WwGF",
    "chT_XSJaWwGH",
    "8AeuVEobWwGH",
    "CdW0kDELWwGH",
    "yg-2838QWwGH",
    "bJ8UUBthWwGH",
    "3nKmioSgWwGH",
    "sx5XGA3MWwGH",
    "3X_fBnRTWwGI",
    "hKBe0gZvWwGI",
    "RBooD9qGWwGK",
    "49l7iankWwGL",
    "_a-80cIIWwGM",
    "FHTVI9l8WwGM",
    "exE5nGkRWwGM",
    "BdDxUoQWWwGM",
    "yMss5UTxWwGN",
    "GRvEHnuGWwGN",
    "yP8UmLLPWwGN",
    "urHu9kk8WwGN",
    "GPQDOaOAWwGN",
    "1eXN6ZQkWwGN",
    "ZNtRHecGWwGO",
    "y1TbLnYDWwGO",
    "Vo5Fyh6iWwGO",
    "ADIe_SvpWwGO",
    "QivXJ4b6WwGO",
    "AtR0kmCfWwGO",
    "OWghHxqWWwGP",
    "Kqybf7ZrWwGP",
    "L6UVpx0TWwGP",
    "vjD2ejdeWwGP"
   ],
   "name": "compactage_x_y_minTau.ipynb",
   "provenance": []
  },
  "kernelspec": {
   "display_name": "Python 3",
   "language": "python",
   "name": "python3"
  },
  "language_info": {
   "codemirror_mode": {
    "name": "ipython",
    "version": 3
   },
   "file_extension": ".py",
   "mimetype": "text/x-python",
   "name": "python",
   "nbconvert_exporter": "python",
   "pygments_lexer": "ipython3",
   "version": "3.7.9"
  },
  "toc": {
   "base_numbering": 1,
   "nav_menu": {},
   "number_sections": true,
   "sideBar": true,
   "skip_h1_title": false,
   "title_cell": "Sommaire",
   "title_sidebar": "Contents",
   "toc_cell": true,
   "toc_position": {
    "height": "calc(100% - 180px)",
    "left": "10px",
    "top": "150px",
    "width": "428.59375px"
   },
   "toc_section_display": true,
   "toc_window_display": true
  },
  "varInspector": {
   "cols": {
    "lenName": 16,
    "lenType": 16,
    "lenVar": 40
   },
   "kernels_config": {
    "python": {
     "delete_cmd_postfix": "",
     "delete_cmd_prefix": "del ",
     "library": "var_list.py",
     "varRefreshCmd": "print(var_dic_list())"
    },
    "r": {
     "delete_cmd_postfix": ") ",
     "delete_cmd_prefix": "rm(",
     "library": "var_list.r",
     "varRefreshCmd": "cat(var_dic_list()) "
    }
   },
   "types_to_exclude": [
    "module",
    "function",
    "builtin_function_or_method",
    "instance",
    "_Feature"
   ],
   "window_display": false
  }
 },
 "nbformat": 4,
 "nbformat_minor": 1
}
