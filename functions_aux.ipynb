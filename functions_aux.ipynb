{
 "cells": [
  {
   "cell_type": "code",
   "execution_count": 30,
   "metadata": {},
   "outputs": [],
   "source": [
    "import pandas as pd\n",
    "import os\n",
    "import re"
   ]
  },
  {
   "cell_type": "code",
   "execution_count": 57,
   "metadata": {},
   "outputs": [],
   "source": [
    "def build_df_frequences_size_groupes(date):\n",
    "\n",
    "    df = pd.read_csv('./data/data_seating_' + date + '.csv')\n",
    "\n",
    "    df['taille'] = df['Femmes'] + df['Hommes'] + df['Enfants'] + df['WCHR']\n",
    "\n",
    "    return df.groupby('taille')['Femmes'].count()\n"
   ]
  },
  {
   "cell_type": "code",
   "execution_count": 32,
   "metadata": {},
   "outputs": [],
   "source": [
    "def get_list_dates_input():\n",
    "    \"\"\"Renvoie la liste des dates des instances fournies dans le dossier \"data\".\n",
    "    \"\"\"\n",
    "\n",
    "    pattern = '^data_seating_([a-zA-Z0-9]*).csv$'\n",
    "\n",
    "    # dates_avion est undictionnaire dont les clés sont les dates des instances et\n",
    "    # dont les clés sont des string donnant l'avion choisi\n",
    "    list_dates = []\n",
    "\n",
    "    for filename in os.listdir('data'):\n",
    "        ans = re.findall(pattern=pattern, string=filename)\n",
    "\n",
    "        if len(ans) == 1: # Sanity check pour vérifier qu'on a bien une solution...\n",
    "            list_dates.append(ans[0])\n",
    "\n",
    "    # Test pour vérifier si on arrive ou non à récupérer des données\n",
    "    assert len(list_dates) != 0, 'Pas de données correctes trouvées dans le dossier \"data\" !'\n",
    "\n",
    "    return list_dates\n"
   ]
  },
  {
   "cell_type": "code",
   "execution_count": 40,
   "metadata": {},
   "outputs": [],
   "source": [
    "list_dates = get_list_dates_input()"
   ]
  },
  {
   "cell_type": "code",
   "execution_count": 53,
   "metadata": {},
   "outputs": [],
   "source": [
    "def build_table_all_instances(list_dates, build_df_frequences_size_groupes):\n",
    "\n",
    "    df = pd.DataFrame(columns = ['date', 'value'])\n",
    "\n",
    "    for date in list_dates:\n",
    "        print(date)\n",
    "        value = build_df_frequences_size_groupes(date)\n",
    "        df_aux = pd.DataFrame({'date': [date], 'value': [value]})\n",
    "        print(df_aux)\n",
    "        df = pd.concat([df, df_aux], axis = 0)\n",
    "\n",
    "    return df"
   ]
  },
  {
   "cell_type": "code",
   "execution_count": 55,
   "metadata": {},
   "outputs": [
    {
     "name": "stdout",
     "output_type": "stream",
     "text": [
      "10Nov\n",
      "    date  value\n",
      "0  10Nov   24.2\n",
      "8Nov\n",
      "   date  value\n",
      "0  8Nov  23.75\n",
      "12Nov\n",
      "    date  value\n",
      "0  12Nov   12.0\n",
      "6Nov\n",
      "   date  value\n",
      "0  6Nov    4.0\n",
      "16Nov\n",
      "    date  value\n",
      "0  16Nov  6.625\n",
      "14Nov\n",
      "    date      value\n",
      "0  14Nov  11.285714\n",
      "11Nov\n",
      "    date   value\n",
      "0  11Nov  11.375\n",
      "7Nov\n",
      "   date  value\n",
      "0  7Nov  27.75\n",
      "17Nov\n",
      "    date      value\n",
      "0  17Nov  12.714286\n",
      "15Nov\n",
      "    date  value\n",
      "0  15Nov    7.0\n"
     ]
    }
   ],
   "source": [
    "df = build_table_all_instances(list_dates, build_df_frequences_size_groupes)"
   ]
  },
  {
   "cell_type": "code",
   "execution_count": 69,
   "metadata": {},
   "outputs": [
    {
     "data": {
      "text/html": [
       "<div>\n",
       "<style scoped>\n",
       "    .dataframe tbody tr th:only-of-type {\n",
       "        vertical-align: middle;\n",
       "    }\n",
       "\n",
       "    .dataframe tbody tr th {\n",
       "        vertical-align: top;\n",
       "    }\n",
       "\n",
       "    .dataframe thead th {\n",
       "        text-align: right;\n",
       "    }\n",
       "</style>\n",
       "<table border=\"1\" class=\"dataframe\">\n",
       "  <thead>\n",
       "    <tr style=\"text-align: right;\">\n",
       "      <th></th>\n",
       "      <th>date</th>\n",
       "      <th>value</th>\n",
       "    </tr>\n",
       "  </thead>\n",
       "  <tbody>\n",
       "    <tr>\n",
       "      <th>0</th>\n",
       "      <td>10Nov</td>\n",
       "      <td>24.200000</td>\n",
       "    </tr>\n",
       "    <tr>\n",
       "      <th>0</th>\n",
       "      <td>8Nov</td>\n",
       "      <td>23.750000</td>\n",
       "    </tr>\n",
       "    <tr>\n",
       "      <th>0</th>\n",
       "      <td>12Nov</td>\n",
       "      <td>12.000000</td>\n",
       "    </tr>\n",
       "    <tr>\n",
       "      <th>0</th>\n",
       "      <td>6Nov</td>\n",
       "      <td>4.000000</td>\n",
       "    </tr>\n",
       "    <tr>\n",
       "      <th>0</th>\n",
       "      <td>16Nov</td>\n",
       "      <td>6.625000</td>\n",
       "    </tr>\n",
       "    <tr>\n",
       "      <th>0</th>\n",
       "      <td>14Nov</td>\n",
       "      <td>11.285714</td>\n",
       "    </tr>\n",
       "    <tr>\n",
       "      <th>0</th>\n",
       "      <td>11Nov</td>\n",
       "      <td>11.375000</td>\n",
       "    </tr>\n",
       "    <tr>\n",
       "      <th>0</th>\n",
       "      <td>7Nov</td>\n",
       "      <td>27.750000</td>\n",
       "    </tr>\n",
       "    <tr>\n",
       "      <th>0</th>\n",
       "      <td>17Nov</td>\n",
       "      <td>12.714286</td>\n",
       "    </tr>\n",
       "    <tr>\n",
       "      <th>0</th>\n",
       "      <td>15Nov</td>\n",
       "      <td>7.000000</td>\n",
       "    </tr>\n",
       "  </tbody>\n",
       "</table>\n",
       "</div>"
      ],
      "text/plain": [
       "    date      value\n",
       "0  10Nov  24.200000\n",
       "0   8Nov  23.750000\n",
       "0  12Nov  12.000000\n",
       "0   6Nov   4.000000\n",
       "0  16Nov   6.625000\n",
       "0  14Nov  11.285714\n",
       "0  11Nov  11.375000\n",
       "0   7Nov  27.750000\n",
       "0  17Nov  12.714286\n",
       "0  15Nov   7.000000"
      ]
     },
     "execution_count": 69,
     "metadata": {},
     "output_type": "execute_result"
    }
   ],
   "source": [
    "df"
   ]
  },
  {
   "cell_type": "code",
   "execution_count": 67,
   "metadata": {},
   "outputs": [
    {
     "data": {
      "text/plain": [
       "taille\n",
       "1    50\n",
       "2    22\n",
       "3     8\n",
       "4     3\n",
       "5     4\n",
       "6     1\n",
       "7     1\n",
       "Name: Femmes, dtype: int64"
      ]
     },
     "execution_count": 67,
     "metadata": {},
     "output_type": "execute_result"
    }
   ],
   "source": [
    "build_df_frequences_size_groupes('17Nov')"
   ]
  },
  {
   "cell_type": "code",
   "execution_count": null,
   "metadata": {},
   "outputs": [],
   "source": []
  }
 ],
 "metadata": {
  "kernelspec": {
   "display_name": "Python 3",
   "language": "python",
   "name": "python3"
  },
  "language_info": {
   "codemirror_mode": {
    "name": "ipython",
    "version": 3
   },
   "file_extension": ".py",
   "mimetype": "text/x-python",
   "name": "python",
   "nbconvert_exporter": "python",
   "pygments_lexer": "ipython3",
   "version": "3.8.3"
  }
 },
 "nbformat": 4,
 "nbformat_minor": 4
}
